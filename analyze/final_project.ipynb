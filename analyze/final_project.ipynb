{
 "cells": [
  {
   "cell_type": "code",
   "execution_count": 294,
   "id": "ad50dbd6",
   "metadata": {},
   "outputs": [],
   "source": [
    "import pandas as pd"
   ]
  },
  {
   "cell_type": "code",
   "execution_count": 295,
   "id": "d8d70039",
   "metadata": {},
   "outputs": [],
   "source": [
    "club_df_dict = pd.read_excel('Club stats.xlsx',sheet_name=None, engine='openpyxl')"
   ]
  },
  {
   "cell_type": "code",
   "execution_count": 296,
   "id": "3cb2a2bb-688b-4171-9a75-63f768ca7cf2",
   "metadata": {},
   "outputs": [],
   "source": [
    "combined_df = pd.DataFrame()\n",
    "for k,df in club_df_dict.items():\n",
    "    if k=='Glossary':\n",
    "        continue\n",
    "    df['period'] = k\n",
    "    combined_df = combined_df.append(df,ignore_index=True)"
   ]
  },
  {
   "cell_type": "code",
   "execution_count": 297,
   "id": "38a67132-7dae-4b39-9014-b2ffb4ab1a8a",
   "metadata": {},
   "outputs": [],
   "source": [
    "combined_df =combined_df.replace({'Charlotte Bobcats': 'Charlotte Hornets'})"
   ]
  },
  {
   "cell_type": "code",
   "execution_count": 298,
   "id": "75ec43b5-e7cd-4f6f-af58-b8b5b85936d8",
   "metadata": {},
   "outputs": [
    {
     "data": {
      "text/plain": [
       "dict_keys(['Glossary', '20-21 regular', '19-20 regular', '18-19 regular', '17-18 regular', '16-17 regular', '15-16 regular', '14-15 regular', '13-14 regular', '20-21 post', '19-20 post', '18-19 post', '17-18 post', '16-17 post', '15-16 post', '14-15 post', '13-14 post'])"
      ]
     },
     "execution_count": 298,
     "metadata": {},
     "output_type": "execute_result"
    }
   ],
   "source": [
    "club_df_dict.keys()"
   ]
  },
  {
   "cell_type": "code",
   "execution_count": 299,
   "id": "38e2b296-010d-4c8e-874e-82ea4d66abc6",
   "metadata": {},
   "outputs": [],
   "source": [
    "combined_df[['year','season']] = combined_df.period.str.split(' ',expand=True)"
   ]
  },
  {
   "cell_type": "code",
   "execution_count": 300,
   "id": "40ceaf39-071d-4d27-90f0-ac4b5abf2c86",
   "metadata": {},
   "outputs": [],
   "source": [
    "post_yr_list = {\n",
    "    yr:combined_df[(combined_df.year==yr)&(combined_df.season=='post')].TEAM.unique().tolist() \n",
    "    for yr in combined_df.year.unique().tolist()\n",
    "}\n",
    "    "
   ]
  },
  {
   "cell_type": "code",
   "execution_count": 301,
   "id": "d33a0518-92cf-4c4c-a3a9-4151a284e561",
   "metadata": {},
   "outputs": [
    {
     "name": "stderr",
     "output_type": "stream",
     "text": [
      "C:\\Users\\yemao\\.pyenv\\pyenv-win\\versions\\3.7.5\\lib\\site-packages\\ipykernel_launcher.py:2: SettingWithCopyWarning: \n",
      "A value is trying to be set on a copy of a slice from a DataFrame.\n",
      "Try using .loc[row_indexer,col_indexer] = value instead\n",
      "\n",
      "See the caveats in the documentation: https://pandas.pydata.org/pandas-docs/stable/user_guide/indexing.html#returning-a-view-versus-a-copy\n",
      "  \n"
     ]
    }
   ],
   "source": [
    "reg_df = combined_df[combined_df.season=='regular']\n",
    "reg_df['playoff'] = combined_df[combined_df.season=='regular'].apply(lambda x: x.TEAM in post_yr_list[x.year],axis=1)"
   ]
  },
  {
   "cell_type": "code",
   "execution_count": 302,
   "id": "28f4befb-02d4-4bc4-ad46-0960e6ccb1c4",
   "metadata": {},
   "outputs": [],
   "source": [
    "reg_df = reg_df.drop(['period','season','RK'],axis=1)"
   ]
  },
  {
   "cell_type": "code",
   "execution_count": 303,
   "id": "5062309d-6b1f-4667-98ad-e5fcdb0a462d",
   "metadata": {},
   "outputs": [],
   "source": [
    "reg_df = reg_df.sort_values(by=['TEAM','year'])"
   ]
  },
  {
   "cell_type": "code",
   "execution_count": 304,
   "id": "73ae3d95-966c-4f0d-9c1c-a1cc599f432e",
   "metadata": {},
   "outputs": [],
   "source": [
    "reg_df['playoff_lag']=reg_df.groupby(['TEAM'])['playoff'].shift(1)"
   ]
  },
  {
   "cell_type": "code",
   "execution_count": 305,
   "id": "1e9f8c03-ee4a-4d92-a85a-99381911f396",
   "metadata": {},
   "outputs": [],
   "source": [
    "playoff_2012 = pd.read_excel('playoff_2012.xlsx',engine='openpyxl')"
   ]
  },
  {
   "cell_type": "code",
   "execution_count": 306,
   "id": "bb3d573c-4aaf-4b04-afc5-544dcfa98a78",
   "metadata": {},
   "outputs": [
    {
     "data": {
      "text/html": [
       "<div>\n",
       "<style scoped>\n",
       "    .dataframe tbody tr th:only-of-type {\n",
       "        vertical-align: middle;\n",
       "    }\n",
       "\n",
       "    .dataframe tbody tr th {\n",
       "        vertical-align: top;\n",
       "    }\n",
       "\n",
       "    .dataframe thead th {\n",
       "        text-align: right;\n",
       "    }\n",
       "</style>\n",
       "<table border=\"1\" class=\"dataframe\">\n",
       "  <thead>\n",
       "    <tr style=\"text-align: right;\">\n",
       "      <th></th>\n",
       "      <th>Rk</th>\n",
       "      <th>Tm</th>\n",
       "    </tr>\n",
       "  </thead>\n",
       "  <tbody>\n",
       "    <tr>\n",
       "      <th>0</th>\n",
       "      <td>1</td>\n",
       "      <td>San Antonio Spurs</td>\n",
       "    </tr>\n",
       "    <tr>\n",
       "      <th>1</th>\n",
       "      <td>2</td>\n",
       "      <td>Oklahoma City Thunder</td>\n",
       "    </tr>\n",
       "    <tr>\n",
       "      <th>2</th>\n",
       "      <td>3</td>\n",
       "      <td>Miami Heat</td>\n",
       "    </tr>\n",
       "    <tr>\n",
       "      <th>3</th>\n",
       "      <td>4</td>\n",
       "      <td>Denver Nuggets</td>\n",
       "    </tr>\n",
       "    <tr>\n",
       "      <th>4</th>\n",
       "      <td>5</td>\n",
       "      <td>Los Angeles Lakers</td>\n",
       "    </tr>\n",
       "    <tr>\n",
       "      <th>5</th>\n",
       "      <td>6</td>\n",
       "      <td>Dallas Mavericks</td>\n",
       "    </tr>\n",
       "    <tr>\n",
       "      <th>6</th>\n",
       "      <td>7</td>\n",
       "      <td>Memphis Grizzlies</td>\n",
       "    </tr>\n",
       "    <tr>\n",
       "      <th>7</th>\n",
       "      <td>8</td>\n",
       "      <td>Indiana Pacers</td>\n",
       "    </tr>\n",
       "    <tr>\n",
       "      <th>8</th>\n",
       "      <td>9</td>\n",
       "      <td>Los Angeles Clippers</td>\n",
       "    </tr>\n",
       "    <tr>\n",
       "      <th>9</th>\n",
       "      <td>10</td>\n",
       "      <td>Boston Celtics</td>\n",
       "    </tr>\n",
       "    <tr>\n",
       "      <th>10</th>\n",
       "      <td>11</td>\n",
       "      <td>Utah Jazz</td>\n",
       "    </tr>\n",
       "    <tr>\n",
       "      <th>11</th>\n",
       "      <td>12</td>\n",
       "      <td>Philadelphia 76ers</td>\n",
       "    </tr>\n",
       "    <tr>\n",
       "      <th>12</th>\n",
       "      <td>13</td>\n",
       "      <td>Chicago Bulls</td>\n",
       "    </tr>\n",
       "    <tr>\n",
       "      <th>13</th>\n",
       "      <td>14</td>\n",
       "      <td>Orlando Magic</td>\n",
       "    </tr>\n",
       "    <tr>\n",
       "      <th>14</th>\n",
       "      <td>15</td>\n",
       "      <td>New York Knicks</td>\n",
       "    </tr>\n",
       "    <tr>\n",
       "      <th>15</th>\n",
       "      <td>16</td>\n",
       "      <td>Atlanta Hawks</td>\n",
       "    </tr>\n",
       "  </tbody>\n",
       "</table>\n",
       "</div>"
      ],
      "text/plain": [
       "    Rk                     Tm\n",
       "0    1      San Antonio Spurs\n",
       "1    2  Oklahoma City Thunder\n",
       "2    3             Miami Heat\n",
       "3    4         Denver Nuggets\n",
       "4    5     Los Angeles Lakers\n",
       "5    6       Dallas Mavericks\n",
       "6    7      Memphis Grizzlies\n",
       "7    8         Indiana Pacers\n",
       "8    9   Los Angeles Clippers\n",
       "9   10         Boston Celtics\n",
       "10  11              Utah Jazz\n",
       "11  12     Philadelphia 76ers\n",
       "12  13          Chicago Bulls\n",
       "13  14          Orlando Magic\n",
       "14  15        New York Knicks\n",
       "15  16          Atlanta Hawks"
      ]
     },
     "execution_count": 306,
     "metadata": {},
     "output_type": "execute_result"
    }
   ],
   "source": [
    "playoff_2012"
   ]
  },
  {
   "cell_type": "code",
   "execution_count": 307,
   "id": "0eac42ad-4c01-4b21-b8d2-10d0e4478eba",
   "metadata": {},
   "outputs": [],
   "source": [
    "reg_df['lasy_year_playoff']=reg_df.apply(lambda r: True if (r.TEAM in playoff_2012.Tm.tolist()) and (r.year=='13-14') else r.playoff_lag,axis=1)"
   ]
  },
  {
   "cell_type": "code",
   "execution_count": 308,
   "id": "862b79cc-b373-409e-9615-cdd3401a5372",
   "metadata": {},
   "outputs": [],
   "source": [
    "reg_df.lasy_year_playoff = reg_df.lasy_year_playoff.fillna(False)"
   ]
  },
  {
   "cell_type": "code",
   "execution_count": 309,
   "id": "547a66a8-3bed-4577-9b9a-ff6ff96616f0",
   "metadata": {},
   "outputs": [],
   "source": [
    "reg_df = reg_df.drop('playoff_lag',axis=1).reset_index(drop=True)"
   ]
  },
  {
   "cell_type": "code",
   "execution_count": 310,
   "id": "866ffb2a-2ff3-4f6c-90a8-e62c5e15495e",
   "metadata": {},
   "outputs": [
    {
     "data": {
      "text/plain": [
       "['13-14', '14-15', '15-16', '16-17', '17-18', '18-19', '19-20', '20-21']"
      ]
     },
     "execution_count": 310,
     "metadata": {},
     "output_type": "execute_result"
    }
   ],
   "source": [
    "reg_df.year.unique().tolist()"
   ]
  },
  {
   "cell_type": "code",
   "execution_count": 311,
   "id": "bca73baf-0922-4968-813e-a0310d856bb6",
   "metadata": {},
   "outputs": [],
   "source": [
    "locations_data = pd.read_csv('NBA clubs Location and Economy.csv')"
   ]
  },
  {
   "cell_type": "code",
   "execution_count": 312,
   "id": "12d1c892-392e-40bb-85e9-76b8463ec185",
   "metadata": {},
   "outputs": [],
   "source": [
    "locations_data = locations_data[['Club name','Year','Metro GDP in $Millon','Metro Population in thousands']]\n",
    "locations_data.columns = ['TEAM','year','GDP','pop']"
   ]
  },
  {
   "cell_type": "code",
   "execution_count": 313,
   "id": "61a50166-dfb3-4045-9b77-acee5b224e39",
   "metadata": {},
   "outputs": [],
   "source": [
    "year_dict ={2014:'13-14', 2015:'14-15', 2016:'15-16', 2017:'16-17', 2018:'17-18', 2019:'18-19', 2020:'19-20', 2021:'20-21'}"
   ]
  },
  {
   "cell_type": "code",
   "execution_count": 314,
   "id": "ad0a14b3-9c6b-4056-b548-d25e830b1a96",
   "metadata": {},
   "outputs": [],
   "source": [
    "locations_data['year'] = locations_data.year.apply(lambda x: year_dict[x])"
   ]
  },
  {
   "cell_type": "code",
   "execution_count": 315,
   "id": "a7964d37-b258-4b1f-841d-7d56522e27bb",
   "metadata": {},
   "outputs": [],
   "source": [
    "reg_df = reg_df.replace({'LA Clippers':'Los Angeles Clippers'})"
   ]
  },
  {
   "cell_type": "code",
   "execution_count": 316,
   "id": "b720be8c-d77c-4807-a3df-3940f0cccdf5",
   "metadata": {},
   "outputs": [],
   "source": [
    "team_df = reg_df.merge(locations_data,on=['year','TEAM'])"
   ]
  },
  {
   "cell_type": "markdown",
   "id": "4bfa19bf-ad58-49ad-8f34-266777fc51fd",
   "metadata": {},
   "source": [
    "## Processing Player's Data"
   ]
  },
  {
   "cell_type": "code",
   "execution_count": 317,
   "id": "f28519cb-a4a8-4ae4-8de9-d96b330523da",
   "metadata": {},
   "outputs": [],
   "source": [
    "year_list = list(year_dict.values())"
   ]
  },
  {
   "cell_type": "code",
   "execution_count": 318,
   "id": "7e59c164-f407-4d0a-965a-bc085f17027f",
   "metadata": {},
   "outputs": [
    {
     "data": {
      "text/plain": [
       "['13-14', '14-15', '15-16', '16-17', '17-18', '18-19', '19-20', '20-21']"
      ]
     },
     "execution_count": 318,
     "metadata": {},
     "output_type": "execute_result"
    }
   ],
   "source": [
    "year_list"
   ]
  },
  {
   "cell_type": "code",
   "execution_count": 319,
   "id": "1b28a36c-4f25-4a15-ac76-4fa0c40a1381",
   "metadata": {},
   "outputs": [],
   "source": [
    "players_df = pd.DataFrame()\n",
    "for yr in year_list:\n",
    "    yr_df = pd.read_csv(f'Players_Stats_salary/{yr}'+r' combined.csv')\n",
    "    yr_df['year'] = yr\n",
    "    players_df = players_df.append(yr_df)"
   ]
  },
  {
   "cell_type": "code",
   "execution_count": 320,
   "id": "37fbe062-8e13-4aaa-85b2-ee355b108c9e",
   "metadata": {},
   "outputs": [
    {
     "data": {
      "text/plain": [
       "Index(['RK_x', 'Player Name', 'Club1', 'Club2', 'Club3', 'POS_x', 'GP', 'MIN',\n",
       "       'PTS', 'FGM', 'FGA', 'FG%', '3PM', '3PA', '3P%', 'FTM', 'FTA', 'FT%',\n",
       "       'REB', 'AST', 'STL', 'BLK', 'TO', 'DD2', 'TD3', 'PER', 'RK_y', 'NAME',\n",
       "       'POS_y', 'TEAM', 'SALARY', 'year'],\n",
       "      dtype='object')"
      ]
     },
     "execution_count": 320,
     "metadata": {},
     "output_type": "execute_result"
    }
   ],
   "source": [
    "players_df.columns"
   ]
  },
  {
   "cell_type": "code",
   "execution_count": 321,
   "id": "2a21157a-5a51-4f7b-a002-2155a3ecb958",
   "metadata": {},
   "outputs": [],
   "source": [
    "players_df = players_df.drop(['RK_x','Player Name','POS_y'],axis=1)"
   ]
  },
  {
   "cell_type": "code",
   "execution_count": 322,
   "id": "db90d3d6-6f04-43cc-b2d1-3ee1fb3387bb",
   "metadata": {},
   "outputs": [],
   "source": [
    "players_df = players_df[~players_df.SALARY.isna()]"
   ]
  },
  {
   "cell_type": "code",
   "execution_count": 323,
   "id": "9dce5da3-5d68-434e-ae8f-9147dd254689",
   "metadata": {},
   "outputs": [],
   "source": [
    "players_df.SALARY = pd.to_numeric(players_df.SALARY.apply(lambda x: str(x).replace('$','').replace(',','')))"
   ]
  },
  {
   "cell_type": "code",
   "execution_count": 324,
   "id": "fec27657-5f5f-421a-87bd-d38ec8a23f80",
   "metadata": {},
   "outputs": [],
   "source": [
    "top_10_paid = players_df.sort_values(['TEAM','year','SALARY'],ascending=False).groupby(['TEAM','year']).head(10)"
   ]
  },
  {
   "cell_type": "code",
   "execution_count": 325,
   "id": "28100686-ddb0-46a7-9721-5d74f99d7f11",
   "metadata": {},
   "outputs": [],
   "source": [
    "top_10_salary_sum_by_team = top_10_paid.groupby(['TEAM','year']).SALARY.sum().reset_index()"
   ]
  },
  {
   "cell_type": "code",
   "execution_count": 326,
   "id": "0a72697c-1812-417a-8a75-d4fbabcd2a72",
   "metadata": {},
   "outputs": [],
   "source": [
    "top_10_salary_sum_by_team = top_10_salary_sum_by_team.replace({'LA Clippers':'Los Angeles Clippers'})"
   ]
  },
  {
   "cell_type": "code",
   "execution_count": 327,
   "id": "b50f9275-25e0-44f2-b576-66174e4a791f",
   "metadata": {},
   "outputs": [],
   "source": [
    "final_df = team_df.merge(top_10_salary_sum_by_team,on=['TEAM','year'])"
   ]
  },
  {
   "cell_type": "code",
   "execution_count": 328,
   "id": "4caf40af-3073-4a16-b888-6e5d238dcbd6",
   "metadata": {},
   "outputs": [
    {
     "data": {
      "text/plain": [
       "array(['Atlanta Hawks', 'Boston Celtics', 'Brooklyn Nets',\n",
       "       'Charlotte Hornets', 'Chicago Bulls', 'Cleveland Cavaliers',\n",
       "       'Dallas Mavericks', 'Denver Nuggets', 'Detroit Pistons',\n",
       "       'Golden State Warriors', 'Houston Rockets', 'Indiana Pacers',\n",
       "       'Los Angeles Clippers', 'Los Angeles Lakers', 'Memphis Grizzlies',\n",
       "       'Miami Heat', 'Milwaukee Bucks', 'Minnesota Timberwolves',\n",
       "       'New Orleans Pelicans', 'New York Knicks', 'Oklahoma City Thunder',\n",
       "       'Orlando Magic', 'Philadelphia 76ers', 'Phoenix Suns',\n",
       "       'Portland Trail Blazers', 'Sacramento Kings', 'San Antonio Spurs',\n",
       "       'Toronto Raptors', 'Utah Jazz', 'Washington Wizards'], dtype=object)"
      ]
     },
     "execution_count": 328,
     "metadata": {},
     "output_type": "execute_result"
    }
   ],
   "source": [
    "final_df.TEAM.unique()"
   ]
  },
  {
   "cell_type": "code",
   "execution_count": 329,
   "id": "49ab4f63-cd2f-4faf-9585-b7227ba9f185",
   "metadata": {},
   "outputs": [],
   "source": [
    "players_df_dict = pd.read_excel('Players stats.xlsm',sheet_name=None,engine='openpyxl')"
   ]
  },
  {
   "cell_type": "code",
   "execution_count": 330,
   "id": "3aab3520-a3b1-4aaa-9e4a-5c29a7fbbf43",
   "metadata": {},
   "outputs": [],
   "source": [
    "combined_df_players = pd.DataFrame()\n",
    "for k,df in players_df_dict.items():\n",
    "    if k=='Glossary':\n",
    "        continue\n",
    "    df['period'] = k\n",
    "    combined_df_players = combined_df_players.append(df,ignore_index=True)"
   ]
  },
  {
   "cell_type": "code",
   "execution_count": 331,
   "id": "95f8fa3e-4dac-479f-96c1-b32742e48359",
   "metadata": {},
   "outputs": [],
   "source": [
    "combined_df_players[['year','season']] = combined_df_players.period.str.split(' ',expand=True)"
   ]
  },
  {
   "cell_type": "code",
   "execution_count": 332,
   "id": "1d7b5b18-bc53-493c-90b9-02e727352057",
   "metadata": {},
   "outputs": [],
   "source": [
    "combined_df_players= combined_df_players.drop(['Player Name','Unnamed: 2','period'],axis=1)"
   ]
  },
  {
   "cell_type": "code",
   "execution_count": 333,
   "id": "474aeeac-8d28-47b4-9c93-3d71160ba0a3",
   "metadata": {},
   "outputs": [],
   "source": [
    "players_df = combined_df_players[(combined_df_players.season=='regular')&(~combined_df_players.NAME.isna())].reset_index(drop=True)"
   ]
  },
  {
   "cell_type": "code",
   "execution_count": 334,
   "id": "32946d5f-9c44-4868-a1e2-d552e1be4a5d",
   "metadata": {},
   "outputs": [],
   "source": [
    "players_df = players_df.drop('Clubs',axis=1)"
   ]
  },
  {
   "cell_type": "code",
   "execution_count": 335,
   "id": "b553fc42-6024-43b5-a9c6-ffeaaff58af1",
   "metadata": {},
   "outputs": [],
   "source": [
    "players_df['Club'] = players_df.apply(lambda x: [x.Club1, x.Club2, x.Club3],axis=1)"
   ]
  },
  {
   "cell_type": "code",
   "execution_count": 336,
   "id": "15eea13b-74b0-494c-a0ad-518a1242469e",
   "metadata": {},
   "outputs": [],
   "source": [
    "players_df = players_df.explode('Club').drop(['Club1','Club2','Club3'],axis=1)"
   ]
  },
  {
   "cell_type": "code",
   "execution_count": 337,
   "id": "66ee17c9-aee5-4f01-ae02-4c9a627920a8",
   "metadata": {},
   "outputs": [],
   "source": [
    "players_df = players_df.dropna()"
   ]
  },
  {
   "cell_type": "code",
   "execution_count": 338,
   "id": "73f6ad5d-3c0f-4437-adac-a4b5401700c3",
   "metadata": {},
   "outputs": [],
   "source": [
    "abb = pd.read_excel('Team_Abb.xlsx',engine='openpyxl')"
   ]
  },
  {
   "cell_type": "code",
   "execution_count": 339,
   "id": "4a5801fa-4ae5-44d2-950a-9a3a62e02a77",
   "metadata": {},
   "outputs": [],
   "source": [
    "club_abb_corr = {\n",
    "'GS':'GSW','WSH':'WAS','NO':'NOP','UTAH':'UTA','SA':'SAS','ISAC':'SAS','IORL':'ORL','IIGS':'GSW','IPHI':'PHI',\n",
    "    'VSA':'SAS','INO':'NOP','NY':'NYK'\n",
    "}"
   ]
  },
  {
   "cell_type": "code",
   "execution_count": 340,
   "id": "91c7940f-fad0-478c-b48a-fc9d7b3ffed8",
   "metadata": {},
   "outputs": [],
   "source": [
    "players_df = players_df.replace(club_abb_corr)"
   ]
  },
  {
   "cell_type": "code",
   "execution_count": 341,
   "id": "16dc3f55-2cf5-4248-9d2f-b075a899648c",
   "metadata": {},
   "outputs": [],
   "source": [
    "players_df=players_df.merge(abb,left_on='Club',right_on='Abb',how='left')"
   ]
  },
  {
   "cell_type": "code",
   "execution_count": 342,
   "id": "33309857-8ef8-4230-9e43-a117cf23ddac",
   "metadata": {},
   "outputs": [
    {
     "data": {
      "text/plain": [
       "Index(['RK', 'NAME', 'POS', 'GP', 'MIN', 'PTS', 'FGM', 'FGA', 'FG%', '3PM',\n",
       "       '3PA', '3P%', 'FTM', 'FTA', 'FT%', 'REB', 'AST', 'STL', 'BLK', 'TO',\n",
       "       'DD2', 'TD3', 'PER', 'year', 'season', 'Club', 'Abb', 'TEAM'],\n",
       "      dtype='object')"
      ]
     },
     "execution_count": 342,
     "metadata": {},
     "output_type": "execute_result"
    }
   ],
   "source": [
    "players_df.columns"
   ]
  },
  {
   "cell_type": "markdown",
   "id": "8895c5a4-1520-4632-bdd6-0fe195912f36",
   "metadata": {},
   "source": [
    "## Avg Turnover Metrics for 8 most-played players for each team and each year"
   ]
  },
  {
   "cell_type": "code",
   "execution_count": 343,
   "id": "116e9a67-92d7-4c01-957c-0fbbe0fc8778",
   "metadata": {},
   "outputs": [],
   "source": [
    "players_df['time_played'] = players_df.MIN*players_df.GP"
   ]
  },
  {
   "cell_type": "code",
   "execution_count": 344,
   "id": "2207fd33-15b1-4f10-a999-7f6aa7353c3b",
   "metadata": {},
   "outputs": [],
   "source": [
    "top_8_most_played_players = players_df.sort_values(['TEAM','year','time_played'],ascending=False).groupby(['TEAM','year']).head(8)"
   ]
  },
  {
   "cell_type": "code",
   "execution_count": 345,
   "id": "41361334-5bec-4e07-b6c9-2e77f4b7d39c",
   "metadata": {},
   "outputs": [],
   "source": [
    "top_8_most_played_players['turnover_metrics'] = top_8_most_played_players.TO/top_8_most_played_players.FGA"
   ]
  },
  {
   "cell_type": "code",
   "execution_count": 346,
   "id": "6157ef28-2a9f-4d20-a9e3-ca4f59cdbb0c",
   "metadata": {},
   "outputs": [],
   "source": [
    "avg_turnover_metrics = top_8_most_played_players.groupby(['TEAM','year']).mean()['turnover_metrics'].reset_index()"
   ]
  },
  {
   "cell_type": "code",
   "execution_count": 347,
   "id": "a75d40f0-088e-4d5c-8edb-1ca59952e786",
   "metadata": {},
   "outputs": [],
   "source": [
    "final_df = final_df.merge(avg_turnover_metrics,on=['TEAM','year'])"
   ]
  },
  {
   "cell_type": "markdown",
   "id": "7c3074a2-0b09-47b5-9770-d65bcb1d69aa",
   "metadata": {},
   "source": [
    "## Assist Metrics"
   ]
  },
  {
   "cell_type": "code",
   "execution_count": 348,
   "id": "4242e230-f7a5-43c6-8c45-407f921f4641",
   "metadata": {},
   "outputs": [],
   "source": [
    "median_assit_for_top_assistor = players_df.sort_values(['TEAM','year','AST'],ascending=False).groupby(['TEAM','year']).head(8)\\\n",
    ".groupby(['TEAM','year']).median()['AST'].reset_index()"
   ]
  },
  {
   "cell_type": "code",
   "execution_count": 349,
   "id": "782b8567-44be-4357-bc23-d659011d6020",
   "metadata": {},
   "outputs": [],
   "source": [
    "median_assit_for_top_assistor = median_assit_for_top_assistor.rename({'AST':'median_ast'},axis=1)"
   ]
  },
  {
   "cell_type": "code",
   "execution_count": 350,
   "id": "90014d98-65c8-4b0e-abbe-c630c405783f",
   "metadata": {},
   "outputs": [],
   "source": [
    "final_df = final_df.merge(median_assit_for_top_assistor,on=['TEAM','year'])"
   ]
  },
  {
   "cell_type": "code",
   "execution_count": 351,
   "id": "c559fc16-16bf-449d-9c62-4b0c56de19f0",
   "metadata": {},
   "outputs": [
    {
     "data": {
      "text/html": [
       "<div>\n",
       "<style scoped>\n",
       "    .dataframe tbody tr th:only-of-type {\n",
       "        vertical-align: middle;\n",
       "    }\n",
       "\n",
       "    .dataframe tbody tr th {\n",
       "        vertical-align: top;\n",
       "    }\n",
       "\n",
       "    .dataframe thead th {\n",
       "        text-align: right;\n",
       "    }\n",
       "</style>\n",
       "<table border=\"1\" class=\"dataframe\">\n",
       "  <thead>\n",
       "    <tr style=\"text-align: right;\">\n",
       "      <th></th>\n",
       "      <th>TEAM</th>\n",
       "      <th>GP</th>\n",
       "      <th>PTS</th>\n",
       "      <th>FGM</th>\n",
       "      <th>FGA</th>\n",
       "      <th>FG%</th>\n",
       "      <th>3PM</th>\n",
       "      <th>3PA</th>\n",
       "      <th>3P%</th>\n",
       "      <th>FTM</th>\n",
       "      <th>...</th>\n",
       "      <th>TO</th>\n",
       "      <th>PF</th>\n",
       "      <th>year</th>\n",
       "      <th>playoff</th>\n",
       "      <th>lasy_year_playoff</th>\n",
       "      <th>GDP</th>\n",
       "      <th>pop</th>\n",
       "      <th>SALARY</th>\n",
       "      <th>turnover_metrics</th>\n",
       "      <th>median_ast</th>\n",
       "    </tr>\n",
       "  </thead>\n",
       "  <tbody>\n",
       "    <tr>\n",
       "      <th>0</th>\n",
       "      <td>Atlanta Hawks</td>\n",
       "      <td>82.0</td>\n",
       "      <td>101.0</td>\n",
       "      <td>37.3</td>\n",
       "      <td>81.6</td>\n",
       "      <td>45.8</td>\n",
       "      <td>9.4</td>\n",
       "      <td>25.8</td>\n",
       "      <td>36.3</td>\n",
       "      <td>17.0</td>\n",
       "      <td>...</td>\n",
       "      <td>14.5</td>\n",
       "      <td>19.2</td>\n",
       "      <td>13-14</td>\n",
       "      <td>True</td>\n",
       "      <td>True</td>\n",
       "      <td>325003</td>\n",
       "      <td>5595</td>\n",
       "      <td>52150108.0</td>\n",
       "      <td>0.168249</td>\n",
       "      <td>3.00</td>\n",
       "    </tr>\n",
       "    <tr>\n",
       "      <th>1</th>\n",
       "      <td>Atlanta Hawks</td>\n",
       "      <td>82.0</td>\n",
       "      <td>102.5</td>\n",
       "      <td>38.1</td>\n",
       "      <td>81.7</td>\n",
       "      <td>46.6</td>\n",
       "      <td>10.0</td>\n",
       "      <td>26.2</td>\n",
       "      <td>38.0</td>\n",
       "      <td>16.5</td>\n",
       "      <td>...</td>\n",
       "      <td>13.5</td>\n",
       "      <td>17.8</td>\n",
       "      <td>14-15</td>\n",
       "      <td>True</td>\n",
       "      <td>True</td>\n",
       "      <td>347745</td>\n",
       "      <td>5689</td>\n",
       "      <td>52112642.0</td>\n",
       "      <td>0.168001</td>\n",
       "      <td>2.95</td>\n",
       "    </tr>\n",
       "    <tr>\n",
       "      <th>2</th>\n",
       "      <td>Atlanta Hawks</td>\n",
       "      <td>82.0</td>\n",
       "      <td>102.8</td>\n",
       "      <td>38.6</td>\n",
       "      <td>84.4</td>\n",
       "      <td>45.8</td>\n",
       "      <td>9.9</td>\n",
       "      <td>28.4</td>\n",
       "      <td>35.0</td>\n",
       "      <td>15.6</td>\n",
       "      <td>...</td>\n",
       "      <td>14.5</td>\n",
       "      <td>19.1</td>\n",
       "      <td>15-16</td>\n",
       "      <td>True</td>\n",
       "      <td>True</td>\n",
       "      <td>369996</td>\n",
       "      <td>5792</td>\n",
       "      <td>68126061.0</td>\n",
       "      <td>0.172936</td>\n",
       "      <td>3.25</td>\n",
       "    </tr>\n",
       "    <tr>\n",
       "      <th>3</th>\n",
       "      <td>Atlanta Hawks</td>\n",
       "      <td>82.0</td>\n",
       "      <td>103.2</td>\n",
       "      <td>38.1</td>\n",
       "      <td>84.4</td>\n",
       "      <td>45.1</td>\n",
       "      <td>8.9</td>\n",
       "      <td>26.1</td>\n",
       "      <td>34.1</td>\n",
       "      <td>18.1</td>\n",
       "      <td>...</td>\n",
       "      <td>15.2</td>\n",
       "      <td>18.2</td>\n",
       "      <td>16-17</td>\n",
       "      <td>True</td>\n",
       "      <td>True</td>\n",
       "      <td>389472</td>\n",
       "      <td>5877</td>\n",
       "      <td>88612062.0</td>\n",
       "      <td>0.167276</td>\n",
       "      <td>2.35</td>\n",
       "    </tr>\n",
       "    <tr>\n",
       "      <th>4</th>\n",
       "      <td>Atlanta Hawks</td>\n",
       "      <td>82.0</td>\n",
       "      <td>103.4</td>\n",
       "      <td>38.2</td>\n",
       "      <td>85.5</td>\n",
       "      <td>44.6</td>\n",
       "      <td>11.2</td>\n",
       "      <td>31.0</td>\n",
       "      <td>36.0</td>\n",
       "      <td>15.8</td>\n",
       "      <td>...</td>\n",
       "      <td>15.0</td>\n",
       "      <td>19.6</td>\n",
       "      <td>17-18</td>\n",
       "      <td>False</td>\n",
       "      <td>True</td>\n",
       "      <td>411660</td>\n",
       "      <td>5951</td>\n",
       "      <td>69224606.0</td>\n",
       "      <td>0.176806</td>\n",
       "      <td>3.05</td>\n",
       "    </tr>\n",
       "    <tr>\n",
       "      <th>...</th>\n",
       "      <td>...</td>\n",
       "      <td>...</td>\n",
       "      <td>...</td>\n",
       "      <td>...</td>\n",
       "      <td>...</td>\n",
       "      <td>...</td>\n",
       "      <td>...</td>\n",
       "      <td>...</td>\n",
       "      <td>...</td>\n",
       "      <td>...</td>\n",
       "      <td>...</td>\n",
       "      <td>...</td>\n",
       "      <td>...</td>\n",
       "      <td>...</td>\n",
       "      <td>...</td>\n",
       "      <td>...</td>\n",
       "      <td>...</td>\n",
       "      <td>...</td>\n",
       "      <td>...</td>\n",
       "      <td>...</td>\n",
       "      <td>...</td>\n",
       "    </tr>\n",
       "    <tr>\n",
       "      <th>234</th>\n",
       "      <td>Washington Wizards</td>\n",
       "      <td>82.0</td>\n",
       "      <td>109.2</td>\n",
       "      <td>41.3</td>\n",
       "      <td>87.0</td>\n",
       "      <td>47.5</td>\n",
       "      <td>9.2</td>\n",
       "      <td>24.8</td>\n",
       "      <td>37.2</td>\n",
       "      <td>17.3</td>\n",
       "      <td>...</td>\n",
       "      <td>13.5</td>\n",
       "      <td>21.3</td>\n",
       "      <td>16-17</td>\n",
       "      <td>True</td>\n",
       "      <td>False</td>\n",
       "      <td>525176</td>\n",
       "      <td>6218</td>\n",
       "      <td>97430036.0</td>\n",
       "      <td>0.153843</td>\n",
       "      <td>1.75</td>\n",
       "    </tr>\n",
       "    <tr>\n",
       "      <th>235</th>\n",
       "      <td>Washington Wizards</td>\n",
       "      <td>82.0</td>\n",
       "      <td>106.6</td>\n",
       "      <td>39.9</td>\n",
       "      <td>85.6</td>\n",
       "      <td>46.7</td>\n",
       "      <td>9.9</td>\n",
       "      <td>26.5</td>\n",
       "      <td>37.5</td>\n",
       "      <td>16.8</td>\n",
       "      <td>...</td>\n",
       "      <td>14.0</td>\n",
       "      <td>21.3</td>\n",
       "      <td>17-18</td>\n",
       "      <td>True</td>\n",
       "      <td>True</td>\n",
       "      <td>547123</td>\n",
       "      <td>6256</td>\n",
       "      <td>123055869.0</td>\n",
       "      <td>0.161488</td>\n",
       "      <td>3.05</td>\n",
       "    </tr>\n",
       "    <tr>\n",
       "      <th>236</th>\n",
       "      <td>Washington Wizards</td>\n",
       "      <td>82.0</td>\n",
       "      <td>114.0</td>\n",
       "      <td>42.1</td>\n",
       "      <td>90.1</td>\n",
       "      <td>46.8</td>\n",
       "      <td>11.3</td>\n",
       "      <td>33.3</td>\n",
       "      <td>34.1</td>\n",
       "      <td>18.4</td>\n",
       "      <td>...</td>\n",
       "      <td>13.7</td>\n",
       "      <td>20.7</td>\n",
       "      <td>18-19</td>\n",
       "      <td>False</td>\n",
       "      <td>True</td>\n",
       "      <td>566892</td>\n",
       "      <td>6297</td>\n",
       "      <td>115658099.0</td>\n",
       "      <td>0.150464</td>\n",
       "      <td>3.05</td>\n",
       "    </tr>\n",
       "    <tr>\n",
       "      <th>237</th>\n",
       "      <td>Washington Wizards</td>\n",
       "      <td>72.0</td>\n",
       "      <td>114.4</td>\n",
       "      <td>41.5</td>\n",
       "      <td>90.9</td>\n",
       "      <td>45.7</td>\n",
       "      <td>12.0</td>\n",
       "      <td>32.6</td>\n",
       "      <td>36.8</td>\n",
       "      <td>19.4</td>\n",
       "      <td>...</td>\n",
       "      <td>13.6</td>\n",
       "      <td>22.7</td>\n",
       "      <td>19-20</td>\n",
       "      <td>False</td>\n",
       "      <td>False</td>\n",
       "      <td>561028</td>\n",
       "      <td>6386</td>\n",
       "      <td>85196283.0</td>\n",
       "      <td>0.159513</td>\n",
       "      <td>3.35</td>\n",
       "    </tr>\n",
       "    <tr>\n",
       "      <th>238</th>\n",
       "      <td>Washington Wizards</td>\n",
       "      <td>72.0</td>\n",
       "      <td>116.6</td>\n",
       "      <td>43.2</td>\n",
       "      <td>90.9</td>\n",
       "      <td>47.5</td>\n",
       "      <td>10.2</td>\n",
       "      <td>29.0</td>\n",
       "      <td>35.1</td>\n",
       "      <td>20.1</td>\n",
       "      <td>...</td>\n",
       "      <td>13.9</td>\n",
       "      <td>21.6</td>\n",
       "      <td>20-21</td>\n",
       "      <td>True</td>\n",
       "      <td>False</td>\n",
       "      <td>593007</td>\n",
       "      <td>6356</td>\n",
       "      <td>122086882.0</td>\n",
       "      <td>0.127403</td>\n",
       "      <td>1.90</td>\n",
       "    </tr>\n",
       "  </tbody>\n",
       "</table>\n",
       "<p>239 rows × 28 columns</p>\n",
       "</div>"
      ],
      "text/plain": [
       "                   TEAM    GP    PTS   FGM   FGA   FG%   3PM   3PA   3P%  \\\n",
       "0         Atlanta Hawks  82.0  101.0  37.3  81.6  45.8   9.4  25.8  36.3   \n",
       "1         Atlanta Hawks  82.0  102.5  38.1  81.7  46.6  10.0  26.2  38.0   \n",
       "2         Atlanta Hawks  82.0  102.8  38.6  84.4  45.8   9.9  28.4  35.0   \n",
       "3         Atlanta Hawks  82.0  103.2  38.1  84.4  45.1   8.9  26.1  34.1   \n",
       "4         Atlanta Hawks  82.0  103.4  38.2  85.5  44.6  11.2  31.0  36.0   \n",
       "..                  ...   ...    ...   ...   ...   ...   ...   ...   ...   \n",
       "234  Washington Wizards  82.0  109.2  41.3  87.0  47.5   9.2  24.8  37.2   \n",
       "235  Washington Wizards  82.0  106.6  39.9  85.6  46.7   9.9  26.5  37.5   \n",
       "236  Washington Wizards  82.0  114.0  42.1  90.1  46.8  11.3  33.3  34.1   \n",
       "237  Washington Wizards  72.0  114.4  41.5  90.9  45.7  12.0  32.6  36.8   \n",
       "238  Washington Wizards  72.0  116.6  43.2  90.9  47.5  10.2  29.0  35.1   \n",
       "\n",
       "      FTM  ...    TO    PF   year  playoff  lasy_year_playoff     GDP   pop  \\\n",
       "0    17.0  ...  14.5  19.2  13-14     True               True  325003  5595   \n",
       "1    16.5  ...  13.5  17.8  14-15     True               True  347745  5689   \n",
       "2    15.6  ...  14.5  19.1  15-16     True               True  369996  5792   \n",
       "3    18.1  ...  15.2  18.2  16-17     True               True  389472  5877   \n",
       "4    15.8  ...  15.0  19.6  17-18    False               True  411660  5951   \n",
       "..    ...  ...   ...   ...    ...      ...                ...     ...   ...   \n",
       "234  17.3  ...  13.5  21.3  16-17     True              False  525176  6218   \n",
       "235  16.8  ...  14.0  21.3  17-18     True               True  547123  6256   \n",
       "236  18.4  ...  13.7  20.7  18-19    False               True  566892  6297   \n",
       "237  19.4  ...  13.6  22.7  19-20    False              False  561028  6386   \n",
       "238  20.1  ...  13.9  21.6  20-21     True              False  593007  6356   \n",
       "\n",
       "          SALARY  turnover_metrics  median_ast  \n",
       "0     52150108.0          0.168249        3.00  \n",
       "1     52112642.0          0.168001        2.95  \n",
       "2     68126061.0          0.172936        3.25  \n",
       "3     88612062.0          0.167276        2.35  \n",
       "4     69224606.0          0.176806        3.05  \n",
       "..           ...               ...         ...  \n",
       "234   97430036.0          0.153843        1.75  \n",
       "235  123055869.0          0.161488        3.05  \n",
       "236  115658099.0          0.150464        3.05  \n",
       "237   85196283.0          0.159513        3.35  \n",
       "238  122086882.0          0.127403        1.90  \n",
       "\n",
       "[239 rows x 28 columns]"
      ]
     },
     "execution_count": 351,
     "metadata": {},
     "output_type": "execute_result"
    }
   ],
   "source": [
    "final_df"
   ]
  },
  {
   "cell_type": "markdown",
   "id": "3d6b6373-1ec5-44b9-a523-3bd4ff854627",
   "metadata": {},
   "source": [
    "## h. Offensive Index= （Avg Points per game- Min PTS）/（Max PTS-Min PTS）+ 3P% + normalized Offensive Rebound+ normalized Assistance"
   ]
  },
  {
   "cell_type": "code",
   "execution_count": 352,
   "id": "35e21593-2e4f-4c28-b127-df51231c8a2c",
   "metadata": {},
   "outputs": [
    {
     "data": {
      "text/plain": [
       "41.6"
      ]
     },
     "execution_count": 352,
     "metadata": {},
     "output_type": "execute_result"
    }
   ],
   "source": [
    "final_df[final_df.year=='15-16']['3P%'].max()"
   ]
  },
  {
   "cell_type": "code",
   "execution_count": 353,
   "id": "f924ebee-521c-4026-b522-8491412661b1",
   "metadata": {},
   "outputs": [],
   "source": [
    "annual_min_stats = final_df.groupby('year').min()[['PTS','3P%','REB','AST']].reset_index()"
   ]
  },
  {
   "cell_type": "code",
   "execution_count": 354,
   "id": "971ae8d3-955f-43a1-8297-295b71cdfa31",
   "metadata": {},
   "outputs": [],
   "source": [
    "annual_max_stats = final_df.groupby('year').max()[['PTS','3P%','REB','AST']].reset_index()"
   ]
  },
  {
   "cell_type": "code",
   "execution_count": 355,
   "id": "b02bcf49-afd6-4928-b9a5-f0fa24421dd4",
   "metadata": {},
   "outputs": [],
   "source": [
    "annual_min_stats.columns = ['year','PTS_min','3P%_min','REB_min','AST_min']"
   ]
  },
  {
   "cell_type": "code",
   "execution_count": 356,
   "id": "3d3dd8a9-cf65-49d1-856a-b2bf8918e323",
   "metadata": {},
   "outputs": [],
   "source": [
    "annual_max_stats.columns = ['year','PTS_max','3P%_max','REB_max','AST_max']"
   ]
  },
  {
   "cell_type": "code",
   "execution_count": 357,
   "id": "cb4c6ce1-4f01-48ec-b907-37fc43eb596a",
   "metadata": {},
   "outputs": [],
   "source": [
    "wip = final_df.merge(annual_max_stats,on='year').merge(annual_min_stats,on='year')"
   ]
  },
  {
   "cell_type": "code",
   "execution_count": 358,
   "id": "0c8f29d0-886c-4507-8a09-9a0d3d07eade",
   "metadata": {},
   "outputs": [
    {
     "data": {
      "text/html": [
       "<div>\n",
       "<style scoped>\n",
       "    .dataframe tbody tr th:only-of-type {\n",
       "        vertical-align: middle;\n",
       "    }\n",
       "\n",
       "    .dataframe tbody tr th {\n",
       "        vertical-align: top;\n",
       "    }\n",
       "\n",
       "    .dataframe thead th {\n",
       "        text-align: right;\n",
       "    }\n",
       "</style>\n",
       "<table border=\"1\" class=\"dataframe\">\n",
       "  <thead>\n",
       "    <tr style=\"text-align: right;\">\n",
       "      <th></th>\n",
       "      <th>TEAM</th>\n",
       "      <th>GP</th>\n",
       "      <th>PTS</th>\n",
       "      <th>FGM</th>\n",
       "      <th>FGA</th>\n",
       "      <th>FG%</th>\n",
       "      <th>3PM</th>\n",
       "      <th>3PA</th>\n",
       "      <th>3P%</th>\n",
       "      <th>FTM</th>\n",
       "      <th>...</th>\n",
       "      <th>turnover_metrics</th>\n",
       "      <th>median_ast</th>\n",
       "      <th>PTS_max</th>\n",
       "      <th>3P%_max</th>\n",
       "      <th>REB_max</th>\n",
       "      <th>AST_max</th>\n",
       "      <th>PTS_min</th>\n",
       "      <th>3P%_min</th>\n",
       "      <th>REB_min</th>\n",
       "      <th>AST_min</th>\n",
       "    </tr>\n",
       "  </thead>\n",
       "  <tbody>\n",
       "    <tr>\n",
       "      <th>0</th>\n",
       "      <td>Atlanta Hawks</td>\n",
       "      <td>82.0</td>\n",
       "      <td>101.0</td>\n",
       "      <td>37.3</td>\n",
       "      <td>81.6</td>\n",
       "      <td>45.8</td>\n",
       "      <td>9.4</td>\n",
       "      <td>25.8</td>\n",
       "      <td>36.3</td>\n",
       "      <td>17.0</td>\n",
       "      <td>...</td>\n",
       "      <td>0.168249</td>\n",
       "      <td>3.00</td>\n",
       "      <td>107.9</td>\n",
       "      <td>39.7</td>\n",
       "      <td>46.4</td>\n",
       "      <td>25.2</td>\n",
       "      <td>93.7</td>\n",
       "      <td>31.2</td>\n",
       "      <td>36.9</td>\n",
       "      <td>18.9</td>\n",
       "    </tr>\n",
       "    <tr>\n",
       "      <th>1</th>\n",
       "      <td>Boston Celtics</td>\n",
       "      <td>82.0</td>\n",
       "      <td>96.2</td>\n",
       "      <td>36.5</td>\n",
       "      <td>83.9</td>\n",
       "      <td>43.5</td>\n",
       "      <td>7.0</td>\n",
       "      <td>21.1</td>\n",
       "      <td>33.3</td>\n",
       "      <td>16.2</td>\n",
       "      <td>...</td>\n",
       "      <td>0.170993</td>\n",
       "      <td>2.60</td>\n",
       "      <td>107.9</td>\n",
       "      <td>39.7</td>\n",
       "      <td>46.4</td>\n",
       "      <td>25.2</td>\n",
       "      <td>93.7</td>\n",
       "      <td>31.2</td>\n",
       "      <td>36.9</td>\n",
       "      <td>18.9</td>\n",
       "    </tr>\n",
       "    <tr>\n",
       "      <th>2</th>\n",
       "      <td>Brooklyn Nets</td>\n",
       "      <td>82.0</td>\n",
       "      <td>98.5</td>\n",
       "      <td>35.7</td>\n",
       "      <td>77.9</td>\n",
       "      <td>45.9</td>\n",
       "      <td>8.6</td>\n",
       "      <td>23.4</td>\n",
       "      <td>36.9</td>\n",
       "      <td>18.4</td>\n",
       "      <td>...</td>\n",
       "      <td>0.155597</td>\n",
       "      <td>2.20</td>\n",
       "      <td>107.9</td>\n",
       "      <td>39.7</td>\n",
       "      <td>46.4</td>\n",
       "      <td>25.2</td>\n",
       "      <td>93.7</td>\n",
       "      <td>31.2</td>\n",
       "      <td>36.9</td>\n",
       "      <td>18.9</td>\n",
       "    </tr>\n",
       "    <tr>\n",
       "      <th>3</th>\n",
       "      <td>Chicago Bulls</td>\n",
       "      <td>82.0</td>\n",
       "      <td>93.7</td>\n",
       "      <td>34.7</td>\n",
       "      <td>80.2</td>\n",
       "      <td>43.2</td>\n",
       "      <td>6.2</td>\n",
       "      <td>17.8</td>\n",
       "      <td>34.8</td>\n",
       "      <td>18.1</td>\n",
       "      <td>...</td>\n",
       "      <td>0.167743</td>\n",
       "      <td>3.40</td>\n",
       "      <td>107.9</td>\n",
       "      <td>39.7</td>\n",
       "      <td>46.4</td>\n",
       "      <td>25.2</td>\n",
       "      <td>93.7</td>\n",
       "      <td>31.2</td>\n",
       "      <td>36.9</td>\n",
       "      <td>18.9</td>\n",
       "    </tr>\n",
       "    <tr>\n",
       "      <th>4</th>\n",
       "      <td>Cleveland Cavaliers</td>\n",
       "      <td>82.0</td>\n",
       "      <td>98.2</td>\n",
       "      <td>37.0</td>\n",
       "      <td>84.8</td>\n",
       "      <td>43.7</td>\n",
       "      <td>7.1</td>\n",
       "      <td>20.0</td>\n",
       "      <td>35.6</td>\n",
       "      <td>17.0</td>\n",
       "      <td>...</td>\n",
       "      <td>0.165841</td>\n",
       "      <td>2.95</td>\n",
       "      <td>107.9</td>\n",
       "      <td>39.7</td>\n",
       "      <td>46.4</td>\n",
       "      <td>25.2</td>\n",
       "      <td>93.7</td>\n",
       "      <td>31.2</td>\n",
       "      <td>36.9</td>\n",
       "      <td>18.9</td>\n",
       "    </tr>\n",
       "    <tr>\n",
       "      <th>...</th>\n",
       "      <td>...</td>\n",
       "      <td>...</td>\n",
       "      <td>...</td>\n",
       "      <td>...</td>\n",
       "      <td>...</td>\n",
       "      <td>...</td>\n",
       "      <td>...</td>\n",
       "      <td>...</td>\n",
       "      <td>...</td>\n",
       "      <td>...</td>\n",
       "      <td>...</td>\n",
       "      <td>...</td>\n",
       "      <td>...</td>\n",
       "      <td>...</td>\n",
       "      <td>...</td>\n",
       "      <td>...</td>\n",
       "      <td>...</td>\n",
       "      <td>...</td>\n",
       "      <td>...</td>\n",
       "      <td>...</td>\n",
       "      <td>...</td>\n",
       "    </tr>\n",
       "    <tr>\n",
       "      <th>234</th>\n",
       "      <td>Sacramento Kings</td>\n",
       "      <td>72.0</td>\n",
       "      <td>113.7</td>\n",
       "      <td>42.6</td>\n",
       "      <td>88.6</td>\n",
       "      <td>48.1</td>\n",
       "      <td>12.1</td>\n",
       "      <td>33.3</td>\n",
       "      <td>36.4</td>\n",
       "      <td>16.4</td>\n",
       "      <td>...</td>\n",
       "      <td>0.148753</td>\n",
       "      <td>3.55</td>\n",
       "      <td>120.1</td>\n",
       "      <td>41.1</td>\n",
       "      <td>48.3</td>\n",
       "      <td>27.7</td>\n",
       "      <td>103.8</td>\n",
       "      <td>33.6</td>\n",
       "      <td>41.4</td>\n",
       "      <td>21.3</td>\n",
       "    </tr>\n",
       "    <tr>\n",
       "      <th>235</th>\n",
       "      <td>San Antonio Spurs</td>\n",
       "      <td>72.0</td>\n",
       "      <td>111.1</td>\n",
       "      <td>41.9</td>\n",
       "      <td>90.5</td>\n",
       "      <td>46.2</td>\n",
       "      <td>9.9</td>\n",
       "      <td>28.4</td>\n",
       "      <td>35.0</td>\n",
       "      <td>17.4</td>\n",
       "      <td>...</td>\n",
       "      <td>0.124106</td>\n",
       "      <td>2.15</td>\n",
       "      <td>120.1</td>\n",
       "      <td>41.1</td>\n",
       "      <td>48.3</td>\n",
       "      <td>27.7</td>\n",
       "      <td>103.8</td>\n",
       "      <td>33.6</td>\n",
       "      <td>41.4</td>\n",
       "      <td>21.3</td>\n",
       "    </tr>\n",
       "    <tr>\n",
       "      <th>236</th>\n",
       "      <td>Toronto Raptors</td>\n",
       "      <td>72.0</td>\n",
       "      <td>111.3</td>\n",
       "      <td>39.7</td>\n",
       "      <td>88.7</td>\n",
       "      <td>44.8</td>\n",
       "      <td>14.5</td>\n",
       "      <td>39.3</td>\n",
       "      <td>36.8</td>\n",
       "      <td>17.4</td>\n",
       "      <td>...</td>\n",
       "      <td>0.122274</td>\n",
       "      <td>2.70</td>\n",
       "      <td>120.1</td>\n",
       "      <td>41.1</td>\n",
       "      <td>48.3</td>\n",
       "      <td>27.7</td>\n",
       "      <td>103.8</td>\n",
       "      <td>33.6</td>\n",
       "      <td>41.4</td>\n",
       "      <td>21.3</td>\n",
       "    </tr>\n",
       "    <tr>\n",
       "      <th>237</th>\n",
       "      <td>Utah Jazz</td>\n",
       "      <td>72.0</td>\n",
       "      <td>116.4</td>\n",
       "      <td>41.3</td>\n",
       "      <td>88.1</td>\n",
       "      <td>46.8</td>\n",
       "      <td>16.7</td>\n",
       "      <td>43.0</td>\n",
       "      <td>38.9</td>\n",
       "      <td>17.2</td>\n",
       "      <td>...</td>\n",
       "      <td>0.161128</td>\n",
       "      <td>2.50</td>\n",
       "      <td>120.1</td>\n",
       "      <td>41.1</td>\n",
       "      <td>48.3</td>\n",
       "      <td>27.7</td>\n",
       "      <td>103.8</td>\n",
       "      <td>33.6</td>\n",
       "      <td>41.4</td>\n",
       "      <td>21.3</td>\n",
       "    </tr>\n",
       "    <tr>\n",
       "      <th>238</th>\n",
       "      <td>Washington Wizards</td>\n",
       "      <td>72.0</td>\n",
       "      <td>116.6</td>\n",
       "      <td>43.2</td>\n",
       "      <td>90.9</td>\n",
       "      <td>47.5</td>\n",
       "      <td>10.2</td>\n",
       "      <td>29.0</td>\n",
       "      <td>35.1</td>\n",
       "      <td>20.1</td>\n",
       "      <td>...</td>\n",
       "      <td>0.127403</td>\n",
       "      <td>1.90</td>\n",
       "      <td>120.1</td>\n",
       "      <td>41.1</td>\n",
       "      <td>48.3</td>\n",
       "      <td>27.7</td>\n",
       "      <td>103.8</td>\n",
       "      <td>33.6</td>\n",
       "      <td>41.4</td>\n",
       "      <td>21.3</td>\n",
       "    </tr>\n",
       "  </tbody>\n",
       "</table>\n",
       "<p>239 rows × 36 columns</p>\n",
       "</div>"
      ],
      "text/plain": [
       "                    TEAM    GP    PTS   FGM   FGA   FG%   3PM   3PA   3P%  \\\n",
       "0          Atlanta Hawks  82.0  101.0  37.3  81.6  45.8   9.4  25.8  36.3   \n",
       "1         Boston Celtics  82.0   96.2  36.5  83.9  43.5   7.0  21.1  33.3   \n",
       "2          Brooklyn Nets  82.0   98.5  35.7  77.9  45.9   8.6  23.4  36.9   \n",
       "3          Chicago Bulls  82.0   93.7  34.7  80.2  43.2   6.2  17.8  34.8   \n",
       "4    Cleveland Cavaliers  82.0   98.2  37.0  84.8  43.7   7.1  20.0  35.6   \n",
       "..                   ...   ...    ...   ...   ...   ...   ...   ...   ...   \n",
       "234     Sacramento Kings  72.0  113.7  42.6  88.6  48.1  12.1  33.3  36.4   \n",
       "235    San Antonio Spurs  72.0  111.1  41.9  90.5  46.2   9.9  28.4  35.0   \n",
       "236      Toronto Raptors  72.0  111.3  39.7  88.7  44.8  14.5  39.3  36.8   \n",
       "237            Utah Jazz  72.0  116.4  41.3  88.1  46.8  16.7  43.0  38.9   \n",
       "238   Washington Wizards  72.0  116.6  43.2  90.9  47.5  10.2  29.0  35.1   \n",
       "\n",
       "      FTM  ...  turnover_metrics  median_ast  PTS_max  3P%_max  REB_max  \\\n",
       "0    17.0  ...          0.168249        3.00    107.9     39.7     46.4   \n",
       "1    16.2  ...          0.170993        2.60    107.9     39.7     46.4   \n",
       "2    18.4  ...          0.155597        2.20    107.9     39.7     46.4   \n",
       "3    18.1  ...          0.167743        3.40    107.9     39.7     46.4   \n",
       "4    17.0  ...          0.165841        2.95    107.9     39.7     46.4   \n",
       "..    ...  ...               ...         ...      ...      ...      ...   \n",
       "234  16.4  ...          0.148753        3.55    120.1     41.1     48.3   \n",
       "235  17.4  ...          0.124106        2.15    120.1     41.1     48.3   \n",
       "236  17.4  ...          0.122274        2.70    120.1     41.1     48.3   \n",
       "237  17.2  ...          0.161128        2.50    120.1     41.1     48.3   \n",
       "238  20.1  ...          0.127403        1.90    120.1     41.1     48.3   \n",
       "\n",
       "     AST_max  PTS_min  3P%_min  REB_min  AST_min  \n",
       "0       25.2     93.7     31.2     36.9     18.9  \n",
       "1       25.2     93.7     31.2     36.9     18.9  \n",
       "2       25.2     93.7     31.2     36.9     18.9  \n",
       "3       25.2     93.7     31.2     36.9     18.9  \n",
       "4       25.2     93.7     31.2     36.9     18.9  \n",
       "..       ...      ...      ...      ...      ...  \n",
       "234     27.7    103.8     33.6     41.4     21.3  \n",
       "235     27.7    103.8     33.6     41.4     21.3  \n",
       "236     27.7    103.8     33.6     41.4     21.3  \n",
       "237     27.7    103.8     33.6     41.4     21.3  \n",
       "238     27.7    103.8     33.6     41.4     21.3  \n",
       "\n",
       "[239 rows x 36 columns]"
      ]
     },
     "execution_count": 358,
     "metadata": {},
     "output_type": "execute_result"
    }
   ],
   "source": [
    "wip"
   ]
  },
  {
   "cell_type": "code",
   "execution_count": 359,
   "id": "c14b5b1a-c945-4978-9c7a-f916e7908caa",
   "metadata": {},
   "outputs": [],
   "source": [
    "wip['normalized_pts'] = (wip.PTS-wip.PTS_min)/(wip.PTS_max-wip.PTS_min)\n",
    "wip['normalized_3p%'] = (wip['3P%']-wip['3P%_min'])/(wip['3P%_max']-wip['3P%_min'])\n",
    "wip['normalized_reb'] = (wip.REB-wip.REB_min)/(wip.REB_max-wip.REB_min)\n",
    "wip['normalized_ast'] = (wip.AST-wip.AST_min)/(wip.AST_max-wip.AST_min)"
   ]
  },
  {
   "cell_type": "code",
   "execution_count": 360,
   "id": "2082e396-b684-43ab-a4eb-b11f2fae5e0c",
   "metadata": {},
   "outputs": [],
   "source": [
    "wip['offensive_index'] = wip.normalized_ast + wip.normalized_pts + wip.normalized_reb + wip['normalized_3p%']"
   ]
  },
  {
   "cell_type": "code",
   "execution_count": 361,
   "id": "d35948b9-6228-4049-ad09-ad8f6f79071f",
   "metadata": {},
   "outputs": [],
   "source": [
    "final_df = final_df.merge(wip[['year','TEAM','offensive_index']], on=['year','TEAM'])"
   ]
  },
  {
   "cell_type": "code",
   "execution_count": 362,
   "id": "ca9731db-e734-41b2-a414-d96d73c4f0aa",
   "metadata": {},
   "outputs": [
    {
     "data": {
      "text/plain": [
       "30"
      ]
     },
     "execution_count": 362,
     "metadata": {},
     "output_type": "execute_result"
    }
   ],
   "source": [
    "len(final_df.TEAM.unique())\n"
   ]
  },
  {
   "cell_type": "markdown",
   "id": "2a3a2fbc-5eaf-47c3-82ed-96a106b0344a",
   "metadata": {
    "tags": []
   },
   "source": [
    "## Modeling"
   ]
  },
  {
   "cell_type": "markdown",
   "id": "0b0f669a-5ef1-4f22-82c2-986d35c661b3",
   "metadata": {},
   "source": [
    "### Logistic Regression"
   ]
  },
  {
   "cell_type": "code",
   "execution_count": 363,
   "id": "18ed1635-917a-489e-bda2-55d9652f9351",
   "metadata": {},
   "outputs": [],
   "source": [
    "import pandas as pd\n",
    "import numpy as np\n",
    "from sklearn import preprocessing\n",
    "import matplotlib.pyplot as plt \n",
    "plt.rc(\"font\", size=14)\n",
    "from sklearn.linear_model import LogisticRegression\n",
    "from sklearn.model_selection import train_test_split"
   ]
  },
  {
   "cell_type": "code",
   "execution_count": 364,
   "id": "1ddd7620-970a-4345-8f19-45a54df1240b",
   "metadata": {},
   "outputs": [
    {
     "data": {
      "text/plain": [
       "Index(['TEAM', 'GP', 'PTS', 'FGM', 'FGA', 'FG%', '3PM', '3PA', '3P%', 'FTM',\n",
       "       'FTA', 'FT%', 'OR', 'DR', 'REB', 'AST', 'STL', 'BLK', 'TO', 'PF',\n",
       "       'year', 'playoff', 'lasy_year_playoff', 'GDP', 'pop', 'SALARY',\n",
       "       'turnover_metrics', 'median_ast', 'offensive_index'],\n",
       "      dtype='object')"
      ]
     },
     "execution_count": 364,
     "metadata": {},
     "output_type": "execute_result"
    }
   ],
   "source": [
    "final_df.columns\n"
   ]
  },
  {
   "cell_type": "code",
   "execution_count": 365,
   "id": "2ca05951-84a0-4a79-a38a-c0acc15bfba7",
   "metadata": {},
   "outputs": [],
   "source": [
    "final_df =final_df.reset_index()"
   ]
  },
  {
   "cell_type": "code",
   "execution_count": 366,
   "id": "6217fdf7-9dec-4bc1-862d-05254e59b0d3",
   "metadata": {},
   "outputs": [],
   "source": [
    "training_x = final_df[final_df.year<'19-20'][ ['lasy_year_playoff', 'GDP', 'pop', 'SALARY',\n",
    "       'turnover_metrics', 'median_ast', 'offensive_index']]\n",
    "training_y = final_df[final_df.year<'19-20']['playoff']"
   ]
  },
  {
   "cell_type": "code",
   "execution_count": 367,
   "id": "f8e17e60-7294-4099-912b-286432cdb77d",
   "metadata": {},
   "outputs": [],
   "source": [
    "testing_x = final_df[final_df.year>='19-20'][ ['lasy_year_playoff', 'GDP', 'pop', 'SALARY',\n",
    "       'turnover_metrics', 'median_ast', 'offensive_index']]\n",
    "testing_y = final_df[final_df.year>='19-20'][['playoff','index']]"
   ]
  },
  {
   "cell_type": "code",
   "execution_count": 368,
   "id": "4eea312f-f74d-47a5-9354-5a6911702e39",
   "metadata": {},
   "outputs": [],
   "source": [
    "model = LogisticRegression()"
   ]
  },
  {
   "cell_type": "code",
   "execution_count": 369,
   "id": "90b5b86f-3a76-40f8-a8b3-22af26fe624e",
   "metadata": {},
   "outputs": [],
   "source": [
    "import statsmodels.formula.api as smf"
   ]
  },
  {
   "cell_type": "code",
   "execution_count": 370,
   "id": "bd9004db-8db1-4cca-8f5a-2a32b734a4f7",
   "metadata": {},
   "outputs": [
    {
     "data": {
      "text/plain": [
       "lasy_year_playoff       bool\n",
       "GDP                    int64\n",
       "pop                    int64\n",
       "SALARY               float64\n",
       "turnover_metrics     float64\n",
       "median_ast           float64\n",
       "offensive_index      float64\n",
       "dtype: object"
      ]
     },
     "execution_count": 370,
     "metadata": {},
     "output_type": "execute_result"
    }
   ],
   "source": [
    "training_x.dtypes"
   ]
  },
  {
   "cell_type": "code",
   "execution_count": 371,
   "id": "ac01a3df-bb6b-409c-900b-0b84089b67db",
   "metadata": {},
   "outputs": [
    {
     "data": {
      "text/plain": [
       "Series([], Name: playoff, dtype: bool)"
      ]
     },
     "execution_count": 371,
     "metadata": {},
     "output_type": "execute_result"
    }
   ],
   "source": [
    "training_y[training_y.astype(float)<0]"
   ]
  },
  {
   "cell_type": "code",
   "execution_count": 372,
   "id": "40cf6f6d-183f-40a0-9d37-36ec0852d59d",
   "metadata": {},
   "outputs": [],
   "source": [
    "stats_data =final_df[final_df.year>='19-20'][ ['lasy_year_playoff', 'GDP', 'pop', 'SALARY',\n",
    "       'turnover_metrics', 'median_ast', 'offensive_index','playoff']]"
   ]
  },
  {
   "cell_type": "code",
   "execution_count": 373,
   "id": "17844cf2-10f4-4fb9-a994-d81475875f75",
   "metadata": {},
   "outputs": [],
   "source": [
    "stats_data.playoff= stats_data.playoff.astype(int)\n",
    "stats_data.lasy_year_playoff= stats_data.lasy_year_playoff.astype(int)"
   ]
  },
  {
   "cell_type": "code",
   "execution_count": 374,
   "id": "ef49317c-5b3f-43ac-88a7-bb1a0f8526bb",
   "metadata": {},
   "outputs": [
    {
     "name": "stdout",
     "output_type": "stream",
     "text": [
      "Optimization terminated successfully.\n",
      "         Current function value: 0.296392\n",
      "         Iterations 8\n"
     ]
    }
   ],
   "source": [
    "log_reg = smf.logit(formula='playoff ~ GDP + lasy_year_playoff + pop + SALARY + turnover_metrics + median_ast + offensive_index',data=stats_data).fit()"
   ]
  },
  {
   "cell_type": "code",
   "execution_count": 375,
   "id": "9208b4aa-4b41-4c60-b18d-725c4895a2a1",
   "metadata": {},
   "outputs": [
    {
     "data": {
      "text/html": [
       "<table class=\"simpletable\">\n",
       "<caption>Logit Regression Results</caption>\n",
       "<tr>\n",
       "  <th>Dep. Variable:</th>        <td>playoff</td>     <th>  No. Observations:  </th>  <td>    60</td>  \n",
       "</tr>\n",
       "<tr>\n",
       "  <th>Model:</th>                 <td>Logit</td>      <th>  Df Residuals:      </th>  <td>    52</td>  \n",
       "</tr>\n",
       "<tr>\n",
       "  <th>Method:</th>                 <td>MLE</td>       <th>  Df Model:          </th>  <td>     7</td>  \n",
       "</tr>\n",
       "<tr>\n",
       "  <th>Date:</th>            <td>Fri, 22 Apr 2022</td> <th>  Pseudo R-squ.:     </th>  <td>0.5710</td>  \n",
       "</tr>\n",
       "<tr>\n",
       "  <th>Time:</th>                <td>13:45:40</td>     <th>  Log-Likelihood:    </th> <td> -17.784</td> \n",
       "</tr>\n",
       "<tr>\n",
       "  <th>converged:</th>             <td>True</td>       <th>  LL-Null:           </th> <td> -41.455</td> \n",
       "</tr>\n",
       "<tr>\n",
       "  <th>Covariance Type:</th>     <td>nonrobust</td>    <th>  LLR p-value:       </th> <td>4.783e-08</td>\n",
       "</tr>\n",
       "</table>\n",
       "<table class=\"simpletable\">\n",
       "<tr>\n",
       "          <td></td>             <th>coef</th>     <th>std err</th>      <th>z</th>      <th>P>|z|</th>  <th>[0.025</th>    <th>0.975]</th>  \n",
       "</tr>\n",
       "<tr>\n",
       "  <th>Intercept</th>         <td>   -4.9104</td> <td>    4.517</td> <td>   -1.087</td> <td> 0.277</td> <td>  -13.763</td> <td>    3.942</td>\n",
       "</tr>\n",
       "<tr>\n",
       "  <th>GDP</th>               <td> 2.917e-06</td> <td> 5.02e-06</td> <td>    0.581</td> <td> 0.562</td> <td>-6.93e-06</td> <td> 1.28e-05</td>\n",
       "</tr>\n",
       "<tr>\n",
       "  <th>lasy_year_playoff</th> <td>    2.6794</td> <td>    1.083</td> <td>    2.474</td> <td> 0.013</td> <td>    0.557</td> <td>    4.802</td>\n",
       "</tr>\n",
       "<tr>\n",
       "  <th>pop</th>               <td>  3.35e-05</td> <td>    0.000</td> <td>    0.074</td> <td> 0.941</td> <td>   -0.001</td> <td>    0.001</td>\n",
       "</tr>\n",
       "<tr>\n",
       "  <th>SALARY</th>            <td>  6.87e-08</td> <td> 3.31e-08</td> <td>    2.075</td> <td> 0.038</td> <td> 3.82e-09</td> <td> 1.34e-07</td>\n",
       "</tr>\n",
       "<tr>\n",
       "  <th>turnover_metrics</th>  <td>  -45.8821</td> <td>   25.255</td> <td>   -1.817</td> <td> 0.069</td> <td>  -95.381</td> <td>    3.617</td>\n",
       "</tr>\n",
       "<tr>\n",
       "  <th>median_ast</th>        <td>   -0.6011</td> <td>    0.531</td> <td>   -1.133</td> <td> 0.257</td> <td>   -1.641</td> <td>    0.439</td>\n",
       "</tr>\n",
       "<tr>\n",
       "  <th>offensive_index</th>   <td>    1.9355</td> <td>    0.915</td> <td>    2.115</td> <td> 0.034</td> <td>    0.142</td> <td>    3.729</td>\n",
       "</tr>\n",
       "</table>"
      ],
      "text/plain": [
       "<class 'statsmodels.iolib.summary.Summary'>\n",
       "\"\"\"\n",
       "                           Logit Regression Results                           \n",
       "==============================================================================\n",
       "Dep. Variable:                playoff   No. Observations:                   60\n",
       "Model:                          Logit   Df Residuals:                       52\n",
       "Method:                           MLE   Df Model:                            7\n",
       "Date:                Fri, 22 Apr 2022   Pseudo R-squ.:                  0.5710\n",
       "Time:                        13:45:40   Log-Likelihood:                -17.784\n",
       "converged:                       True   LL-Null:                       -41.455\n",
       "Covariance Type:            nonrobust   LLR p-value:                 4.783e-08\n",
       "=====================================================================================\n",
       "                        coef    std err          z      P>|z|      [0.025      0.975]\n",
       "-------------------------------------------------------------------------------------\n",
       "Intercept            -4.9104      4.517     -1.087      0.277     -13.763       3.942\n",
       "GDP                2.917e-06   5.02e-06      0.581      0.562   -6.93e-06    1.28e-05\n",
       "lasy_year_playoff     2.6794      1.083      2.474      0.013       0.557       4.802\n",
       "pop                 3.35e-05      0.000      0.074      0.941      -0.001       0.001\n",
       "SALARY              6.87e-08   3.31e-08      2.075      0.038    3.82e-09    1.34e-07\n",
       "turnover_metrics    -45.8821     25.255     -1.817      0.069     -95.381       3.617\n",
       "median_ast           -0.6011      0.531     -1.133      0.257      -1.641       0.439\n",
       "offensive_index       1.9355      0.915      2.115      0.034       0.142       3.729\n",
       "=====================================================================================\n",
       "\"\"\""
      ]
     },
     "execution_count": 375,
     "metadata": {},
     "output_type": "execute_result"
    }
   ],
   "source": [
    "log_reg.summary()"
   ]
  },
  {
   "cell_type": "code",
   "execution_count": 376,
   "id": "a5be2d38-a3bc-4ed6-bfe0-e4ce1118b8aa",
   "metadata": {},
   "outputs": [],
   "source": [
    "testing_x.lasy_year_playoff= testing_x.lasy_year_playoff.astype(int)\n",
    "results_log_reg = final_df[final_df.year>='19-20'][['year','TEAM','lasy_year_playoff', 'GDP', 'pop', 'SALARY',\n",
    "       'turnover_metrics', 'median_ast', 'offensive_index','playoff']]\\\n",
    ".join(pd.DataFrame({'prediction':log_reg.predict(testing_x)}))"
   ]
  },
  {
   "cell_type": "code",
   "execution_count": 377,
   "id": "b18e98e7-fbe8-4837-ba52-743fd0b62df2",
   "metadata": {},
   "outputs": [],
   "source": [
    "playoffs_testing = results_log_reg.sort_values(['year','prediction'],ascending=False).groupby(['year']).head(14)"
   ]
  },
  {
   "cell_type": "code",
   "execution_count": 378,
   "id": "04457d9a-9f2c-46d9-bc45-293e7b8ca627",
   "metadata": {},
   "outputs": [],
   "source": [
    "playoffs_testing[['predicted_result']] = 1"
   ]
  },
  {
   "cell_type": "code",
   "execution_count": 379,
   "id": "9aab7acd-ef37-43fe-af45-35ef98c0e7c0",
   "metadata": {},
   "outputs": [],
   "source": [
    "results_log_reg = results_log_reg.join(playoffs_testing.predicted_result)\n",
    "results_log_reg.predicted_result = results_log_reg.predicted_result.fillna(0)\n",
    "results_log_reg.playoff = results_log_reg.playoff.astype(int)"
   ]
  },
  {
   "cell_type": "code",
   "execution_count": 380,
   "id": "66bafa9c-1da0-4f54-8b36-68458e4504ff",
   "metadata": {},
   "outputs": [
    {
     "data": {
      "text/plain": [
       "60"
      ]
     },
     "execution_count": 380,
     "metadata": {},
     "output_type": "execute_result"
    }
   ],
   "source": [
    "len(results_log_reg.predicted_result)"
   ]
  },
  {
   "cell_type": "code",
   "execution_count": 381,
   "id": "a1d4c982-e0ae-4ddb-be97-7e80add31892",
   "metadata": {},
   "outputs": [
    {
     "data": {
      "text/html": [
       "<div>\n",
       "<style scoped>\n",
       "    .dataframe tbody tr th:only-of-type {\n",
       "        vertical-align: middle;\n",
       "    }\n",
       "\n",
       "    .dataframe tbody tr th {\n",
       "        vertical-align: top;\n",
       "    }\n",
       "\n",
       "    .dataframe thead th {\n",
       "        text-align: right;\n",
       "    }\n",
       "</style>\n",
       "<table border=\"1\" class=\"dataframe\">\n",
       "  <thead>\n",
       "    <tr style=\"text-align: right;\">\n",
       "      <th></th>\n",
       "      <th>year</th>\n",
       "      <th>TEAM</th>\n",
       "      <th>lasy_year_playoff</th>\n",
       "      <th>GDP</th>\n",
       "      <th>pop</th>\n",
       "      <th>SALARY</th>\n",
       "      <th>turnover_metrics</th>\n",
       "      <th>median_ast</th>\n",
       "      <th>offensive_index</th>\n",
       "      <th>playoff</th>\n",
       "      <th>prediction</th>\n",
       "      <th>predicted_result</th>\n",
       "    </tr>\n",
       "  </thead>\n",
       "  <tbody>\n",
       "    <tr>\n",
       "      <th>23</th>\n",
       "      <td>20-21</td>\n",
       "      <td>Brooklyn Nets</td>\n",
       "      <td>True</td>\n",
       "      <td>1912455</td>\n",
       "      <td>19768</td>\n",
       "      <td>180381490.0</td>\n",
       "      <td>0.139303</td>\n",
       "      <td>4.70</td>\n",
       "      <td>2.948800</td>\n",
       "      <td>1</td>\n",
       "      <td>0.999997</td>\n",
       "      <td>1.0</td>\n",
       "    </tr>\n",
       "    <tr>\n",
       "      <th>102</th>\n",
       "      <td>20-21</td>\n",
       "      <td>Los Angeles Clippers</td>\n",
       "      <td>True</td>\n",
       "      <td>1064438</td>\n",
       "      <td>13036</td>\n",
       "      <td>131781660.0</td>\n",
       "      <td>0.142007</td>\n",
       "      <td>3.25</td>\n",
       "      <td>2.515939</td>\n",
       "      <td>1</td>\n",
       "      <td>0.998847</td>\n",
       "      <td>1.0</td>\n",
       "    </tr>\n",
       "    <tr>\n",
       "      <th>134</th>\n",
       "      <td>20-21</td>\n",
       "      <td>Milwaukee Bucks</td>\n",
       "      <td>True</td>\n",
       "      <td>92963</td>\n",
       "      <td>1566</td>\n",
       "      <td>123122306.0</td>\n",
       "      <td>0.147120</td>\n",
       "      <td>3.20</td>\n",
       "      <td>3.333931</td>\n",
       "      <td>1</td>\n",
       "      <td>0.987011</td>\n",
       "      <td>1.0</td>\n",
       "    </tr>\n",
       "    <tr>\n",
       "      <th>101</th>\n",
       "      <td>19-20</td>\n",
       "      <td>Los Angeles Clippers</td>\n",
       "      <td>True</td>\n",
       "      <td>1007037</td>\n",
       "      <td>13110</td>\n",
       "      <td>122699675.0</td>\n",
       "      <td>0.154540</td>\n",
       "      <td>3.80</td>\n",
       "      <td>2.726309</td>\n",
       "      <td>1</td>\n",
       "      <td>0.995836</td>\n",
       "      <td>1.0</td>\n",
       "    </tr>\n",
       "    <tr>\n",
       "      <th>85</th>\n",
       "      <td>19-20</td>\n",
       "      <td>Houston Rockets</td>\n",
       "      <td>True</td>\n",
       "      <td>488165</td>\n",
       "      <td>7154</td>\n",
       "      <td>137346433.0</td>\n",
       "      <td>0.146086</td>\n",
       "      <td>1.55</td>\n",
       "      <td>1.609872</td>\n",
       "      <td>1</td>\n",
       "      <td>0.987256</td>\n",
       "      <td>1.0</td>\n",
       "    </tr>\n",
       "    <tr>\n",
       "      <th>197</th>\n",
       "      <td>19-20</td>\n",
       "      <td>Portland Trail Blazers</td>\n",
       "      <td>True</td>\n",
       "      <td>168380</td>\n",
       "      <td>2516</td>\n",
       "      <td>126324546.0</td>\n",
       "      <td>0.129466</td>\n",
       "      <td>1.60</td>\n",
       "      <td>2.061993</td>\n",
       "      <td>1</td>\n",
       "      <td>0.983892</td>\n",
       "      <td>1.0</td>\n",
       "    </tr>\n",
       "  </tbody>\n",
       "</table>\n",
       "</div>"
      ],
      "text/plain": [
       "      year                    TEAM  lasy_year_playoff      GDP    pop  \\\n",
       "23   20-21           Brooklyn Nets               True  1912455  19768   \n",
       "102  20-21    Los Angeles Clippers               True  1064438  13036   \n",
       "134  20-21         Milwaukee Bucks               True    92963   1566   \n",
       "101  19-20    Los Angeles Clippers               True  1007037  13110   \n",
       "85   19-20         Houston Rockets               True   488165   7154   \n",
       "197  19-20  Portland Trail Blazers               True   168380   2516   \n",
       "\n",
       "          SALARY  turnover_metrics  median_ast  offensive_index  playoff  \\\n",
       "23   180381490.0          0.139303        4.70         2.948800        1   \n",
       "102  131781660.0          0.142007        3.25         2.515939        1   \n",
       "134  123122306.0          0.147120        3.20         3.333931        1   \n",
       "101  122699675.0          0.154540        3.80         2.726309        1   \n",
       "85   137346433.0          0.146086        1.55         1.609872        1   \n",
       "197  126324546.0          0.129466        1.60         2.061993        1   \n",
       "\n",
       "     prediction  predicted_result  \n",
       "23     0.999997               1.0  \n",
       "102    0.998847               1.0  \n",
       "134    0.987011               1.0  \n",
       "101    0.995836               1.0  \n",
       "85     0.987256               1.0  \n",
       "197    0.983892               1.0  "
      ]
     },
     "execution_count": 381,
     "metadata": {},
     "output_type": "execute_result"
    }
   ],
   "source": [
    "results_log_reg.sort_values(['year','prediction'],ascending=False).groupby(['year']).head(3)"
   ]
  },
  {
   "cell_type": "code",
   "execution_count": 382,
   "id": "30775a0d-7480-420f-90ae-c055bb478a97",
   "metadata": {
    "tags": []
   },
   "outputs": [
    {
     "name": "stdout",
     "output_type": "stream",
     "text": [
      "Confusion Matrix : \n",
      " [[25  3]\n",
      " [ 7 25]]\n",
      "Test accuracy =  0.8333333333333334\n"
     ]
    }
   ],
   "source": [
    "from sklearn.metrics import (confusion_matrix,\n",
    "                           accuracy_score)\n",
    " \n",
    "cm = confusion_matrix(results_log_reg.playoff, results_log_reg.predicted_result)\n",
    "print (\"Confusion Matrix : \\n\", cm)\n",
    " \n",
    "# accuracy score of the model\n",
    "print('Test accuracy = ', accuracy_score(results_log_reg.playoff, results_log_reg.predicted_result))"
   ]
  },
  {
   "cell_type": "markdown",
   "id": "c1429b36-7cc6-4fcb-835a-abda4893ad9d",
   "metadata": {
    "tags": []
   },
   "source": [
    "## Random Forest Classification "
   ]
  },
  {
   "cell_type": "code",
   "execution_count": 383,
   "id": "409e7be2-5100-4977-959f-582bed626b2a",
   "metadata": {},
   "outputs": [],
   "source": [
    "from sklearn.ensemble import RandomForestClassifier"
   ]
  },
  {
   "cell_type": "code",
   "execution_count": 384,
   "id": "6f644ef5-9822-44cc-8d39-8cdac52aaf47",
   "metadata": {},
   "outputs": [],
   "source": [
    "def randomForestClassifier(x_train,x_test, y_train):\n",
    "    rf_clf = RandomForestClassifier(random_state=614)\n",
    "    rf_clf.fit(x_train, y_train)\n",
    "\n",
    "    y_predict_train = rf_clf.predict(x_train)\n",
    "    y_predict_test = rf_clf.predict(x_test)\n",
    "    # -------------------------------\n",
    "    return rf_clf,y_predict_train, y_predict_test"
   ]
  },
  {
   "cell_type": "code",
   "execution_count": 385,
   "id": "af4215fc-07e5-4b2e-8ca1-f4b15965022c",
   "metadata": {},
   "outputs": [],
   "source": [
    "training_x.lasy_year_playoff= training_x.lasy_year_playoff.astype(int)\n",
    "training_y= training_y.astype(int)"
   ]
  },
  {
   "cell_type": "code",
   "execution_count": 386,
   "id": "35e9fe8e-4dcd-4bbe-aa5f-7c57386be685",
   "metadata": {},
   "outputs": [],
   "source": [
    "rfm, y_predict_train, predictions_rf = randomForestClassifier(training_x,testing_x, training_y)"
   ]
  },
  {
   "cell_type": "code",
   "execution_count": 387,
   "id": "7431393a-40f2-4d9d-b508-d5ae2e965cc2",
   "metadata": {},
   "outputs": [
    {
     "data": {
      "text/plain": [
       "array([0, 1, 1, 1, 0, 1, 0, 0, 0, 1, 1, 0, 1, 1, 1, 1, 0, 0, 0, 1, 1, 0,\n",
       "       1, 1, 1, 1, 1, 1, 1, 1, 1, 0, 1, 1, 0, 1, 1, 1, 0, 0, 1, 0, 0, 0,\n",
       "       1, 1, 1, 1, 1, 0, 0, 0, 1, 0, 1, 0, 1, 1, 1, 1])"
      ]
     },
     "execution_count": 387,
     "metadata": {},
     "output_type": "execute_result"
    }
   ],
   "source": [
    "predictions_rf"
   ]
  },
  {
   "cell_type": "code",
   "execution_count": 388,
   "id": "bc8f4dc0-da50-4029-aff8-c9e94e14b6d7",
   "metadata": {},
   "outputs": [
    {
     "data": {
      "text/plain": [
       "array([6, 3, 5, 1, 4, 2, 0], dtype=int64)"
      ]
     },
     "execution_count": 388,
     "metadata": {},
     "output_type": "execute_result"
    }
   ],
   "source": [
    "np.argsort(rfm.feature_importances_)[::-1]"
   ]
  },
  {
   "cell_type": "code",
   "execution_count": 389,
   "id": "1bc84f20-ec02-4c9d-8104-54ee7d78067e",
   "metadata": {},
   "outputs": [
    {
     "data": {
      "text/plain": [
       "{'lasy_year_playoff': 0.0726632097679087,\n",
       " 'GDP': 0.13092935938476635,\n",
       " 'pop': 0.10964234569805731,\n",
       " 'SALARY': 0.1768051915463171,\n",
       " 'turnover_metrics': 0.11848677267363206,\n",
       " 'median_ast': 0.1551595757536755,\n",
       " 'offensive_index': 0.23631354517564307}"
      ]
     },
     "execution_count": 389,
     "metadata": {},
     "output_type": "execute_result"
    }
   ],
   "source": [
    "{i[0]:i[1]for i in zip(training_x.columns.tolist(),rfm.feature_importances_.tolist())}"
   ]
  },
  {
   "cell_type": "code",
   "execution_count": 390,
   "id": "c703dd09-1d68-42b4-8bdd-03e0e0622dc6",
   "metadata": {},
   "outputs": [],
   "source": [
    "from sklearn.metrics import accuracy_score, classification_report"
   ]
  },
  {
   "cell_type": "code",
   "execution_count": 391,
   "id": "dbcceb9f-b38d-4fa6-8cb2-047f19219b45",
   "metadata": {},
   "outputs": [
    {
     "data": {
      "text/plain": [
       "0.7333333333333333"
      ]
     },
     "execution_count": 391,
     "metadata": {},
     "output_type": "execute_result"
    }
   ],
   "source": [
    "accuracy_score(testing_y.playoff.astype(int),predictions_rf)"
   ]
  },
  {
   "cell_type": "code",
   "execution_count": 392,
   "id": "dc345948-504f-48dd-8005-f5a43db1f844",
   "metadata": {},
   "outputs": [],
   "source": [
    "from sklearn.model_selection import cross_val_score, GridSearchCV, cross_validate, train_test_split\n",
    "def hyperParameterTuning(rf_clf,x_train,y_train):\n",
    "    params = {\n",
    "        'n_estimators': [4, 16, 256],\n",
    "        'max_depth': [2, 8, 16]\n",
    "    }\n",
    "    gscv_rfc = GridSearchCV(estimator=rf_clf, param_grid=params)\n",
    "    gscv_rfc_fit = gscv_rfc.fit(x_train, y_train)\n",
    "    # -------------------------------\n",
    "    return gscv_rfc, gscv_rfc_fit"
   ]
  },
  {
   "cell_type": "code",
   "execution_count": 393,
   "id": "8b2f6be4-dc93-462e-8544-1e76fba61576",
   "metadata": {},
   "outputs": [],
   "source": [
    "tuned_rfm_search, tuned_rfm = hyperParameterTuning(rfm,training_x,training_y)"
   ]
  },
  {
   "cell_type": "code",
   "execution_count": 394,
   "id": "5c11f84c-942e-4576-b029-f9b65b6a8648",
   "metadata": {},
   "outputs": [
    {
     "data": {
      "text/plain": [
       "0.7166666666666667"
      ]
     },
     "execution_count": 394,
     "metadata": {},
     "output_type": "execute_result"
    }
   ],
   "source": [
    "predictions_tuned_rfm = tuned_rfm.predict(testing_x)\n",
    "accuracy_score(testing_y.playoff.astype(int),predictions_tuned_rfm)"
   ]
  },
  {
   "cell_type": "code",
   "execution_count": 395,
   "id": "49ff005e-d564-4871-ac11-bcc41703d495",
   "metadata": {},
   "outputs": [],
   "source": [
    "rfm_predictions = pd.DataFrame({'rfm_prediction':tuned_rfm.predict_proba(testing_x)[:,1]},index=testing_y.index)"
   ]
  },
  {
   "cell_type": "code",
   "execution_count": 396,
   "id": "10ae6be7-0fa4-4c8b-9604-d836fd1ee597",
   "metadata": {},
   "outputs": [],
   "source": [
    "results_rfm = final_df[final_df.year>='19-20'][['year','TEAM','lasy_year_playoff', 'GDP', 'pop', 'SALARY',\n",
    "       'turnover_metrics', 'median_ast', 'offensive_index','playoff']].join(rfm_predictions)"
   ]
  },
  {
   "cell_type": "code",
   "execution_count": 397,
   "id": "7abe18d5-9e6e-45f9-ab4e-a3331ecb668c",
   "metadata": {
    "tags": []
   },
   "outputs": [],
   "source": [
    "rfm_playoffs = results_rfm.sort_values(['year','rfm_prediction'],ascending=False).groupby(['year']).head(14)\n",
    "rfm_playoffs['rfm_predicted_result'] = 1\n",
    "results_rfm = results_rfm.join(rfm_playoffs.rfm_predicted_result)\n",
    "results_rfm.rfm_predicted_result = results_rfm.rfm_predicted_result.fillna(0)\n",
    "results_rfm.playoff = results_rfm.playoff.astype(int)"
   ]
  },
  {
   "cell_type": "code",
   "execution_count": 398,
   "id": "0c965298-d1e3-4a6d-a73c-39c5df73eb6b",
   "metadata": {},
   "outputs": [
    {
     "name": "stdout",
     "output_type": "stream",
     "text": [
      "Confusion Matrix : \n",
      " [[21  7]\n",
      " [11 21]]\n",
      "Test accuracy =  0.7\n"
     ]
    }
   ],
   "source": [
    "from sklearn.metrics import (confusion_matrix,\n",
    "                           accuracy_score)\n",
    " \n",
    "cm = confusion_matrix(results_rfm.playoff, results_rfm.rfm_predicted_result)\n",
    "print (\"Confusion Matrix : \\n\", cm)\n",
    " \n",
    "# accuracy score of the model\n",
    "print('Test accuracy = ', accuracy_score(results_rfm.playoff, results_rfm.rfm_predicted_result))"
   ]
  },
  {
   "cell_type": "code",
   "execution_count": 402,
   "id": "cd2f6b3b-b277-477f-a1f5-90e9d02e9f9e",
   "metadata": {},
   "outputs": [
    {
     "data": {
      "text/html": [
       "<div>\n",
       "<style scoped>\n",
       "    .dataframe tbody tr th:only-of-type {\n",
       "        vertical-align: middle;\n",
       "    }\n",
       "\n",
       "    .dataframe tbody tr th {\n",
       "        vertical-align: top;\n",
       "    }\n",
       "\n",
       "    .dataframe thead th {\n",
       "        text-align: right;\n",
       "    }\n",
       "</style>\n",
       "<table border=\"1\" class=\"dataframe\">\n",
       "  <thead>\n",
       "    <tr style=\"text-align: right;\">\n",
       "      <th></th>\n",
       "      <th>year</th>\n",
       "      <th>TEAM</th>\n",
       "      <th>lasy_year_playoff</th>\n",
       "      <th>GDP</th>\n",
       "      <th>pop</th>\n",
       "      <th>SALARY</th>\n",
       "      <th>turnover_metrics</th>\n",
       "      <th>median_ast</th>\n",
       "      <th>offensive_index</th>\n",
       "      <th>playoff</th>\n",
       "      <th>rfm_prediction</th>\n",
       "      <th>rfm_predicted_result</th>\n",
       "    </tr>\n",
       "  </thead>\n",
       "  <tbody>\n",
       "    <tr>\n",
       "      <th>230</th>\n",
       "      <td>20-21</td>\n",
       "      <td>Utah Jazz</td>\n",
       "      <td>True</td>\n",
       "      <td>109836</td>\n",
       "      <td>1263</td>\n",
       "      <td>128955106.0</td>\n",
       "      <td>0.161128</td>\n",
       "      <td>2.5</td>\n",
       "      <td>2.854673</td>\n",
       "      <td>1</td>\n",
       "      <td>0.759676</td>\n",
       "      <td>1.0</td>\n",
       "    </tr>\n",
       "    <tr>\n",
       "      <th>221</th>\n",
       "      <td>19-20</td>\n",
       "      <td>Toronto Raptors</td>\n",
       "      <td>True</td>\n",
       "      <td>328359</td>\n",
       "      <td>6197</td>\n",
       "      <td>118082968.0</td>\n",
       "      <td>0.166193</td>\n",
       "      <td>2.7</td>\n",
       "      <td>2.565892</td>\n",
       "      <td>1</td>\n",
       "      <td>0.770539</td>\n",
       "      <td>1.0</td>\n",
       "    </tr>\n",
       "  </tbody>\n",
       "</table>\n",
       "</div>"
      ],
      "text/plain": [
       "      year             TEAM  lasy_year_playoff     GDP   pop       SALARY  \\\n",
       "230  20-21        Utah Jazz               True  109836  1263  128955106.0   \n",
       "221  19-20  Toronto Raptors               True  328359  6197  118082968.0   \n",
       "\n",
       "     turnover_metrics  median_ast  offensive_index  playoff  rfm_prediction  \\\n",
       "230          0.161128         2.5         2.854673        1        0.759676   \n",
       "221          0.166193         2.7         2.565892        1        0.770539   \n",
       "\n",
       "     rfm_predicted_result  \n",
       "230                   1.0  \n",
       "221                   1.0  "
      ]
     },
     "execution_count": 402,
     "metadata": {},
     "output_type": "execute_result"
    }
   ],
   "source": [
    "results_rfm.sort_values(['year','rfm_prediction'],ascending=False).groupby(['year']).head(1)"
   ]
  },
  {
   "cell_type": "code",
   "execution_count": 400,
   "id": "dbcbf47e-2125-4b7c-8988-3735120bdf8e",
   "metadata": {},
   "outputs": [
    {
     "data": {
      "text/plain": [
       "60"
      ]
     },
     "execution_count": 400,
     "metadata": {},
     "output_type": "execute_result"
    }
   ],
   "source": [
    "len(results_log_reg)"
   ]
  },
  {
   "cell_type": "code",
   "execution_count": 411,
   "id": "85e310b1-93de-4611-86c0-1dcf93693fb2",
   "metadata": {},
   "outputs": [
    {
     "data": {
      "text/html": [
       "<div>\n",
       "<style scoped>\n",
       "    .dataframe tbody tr th:only-of-type {\n",
       "        vertical-align: middle;\n",
       "    }\n",
       "\n",
       "    .dataframe tbody tr th {\n",
       "        vertical-align: top;\n",
       "    }\n",
       "\n",
       "    .dataframe thead th {\n",
       "        text-align: right;\n",
       "    }\n",
       "</style>\n",
       "<table border=\"1\" class=\"dataframe\">\n",
       "  <thead>\n",
       "    <tr style=\"text-align: right;\">\n",
       "      <th></th>\n",
       "      <th>year</th>\n",
       "      <th>TEAM</th>\n",
       "      <th>lasy_year_playoff</th>\n",
       "      <th>GDP</th>\n",
       "      <th>pop</th>\n",
       "      <th>SALARY</th>\n",
       "      <th>turnover_metrics</th>\n",
       "      <th>median_ast</th>\n",
       "      <th>offensive_index</th>\n",
       "      <th>playoff</th>\n",
       "      <th>prediction</th>\n",
       "    </tr>\n",
       "  </thead>\n",
       "  <tbody>\n",
       "    <tr>\n",
       "      <th>0</th>\n",
       "      <td>13-14</td>\n",
       "      <td>Atlanta Hawks</td>\n",
       "      <td>True</td>\n",
       "      <td>325003</td>\n",
       "      <td>5595</td>\n",
       "      <td>52150108.0</td>\n",
       "      <td>0.168249</td>\n",
       "      <td>3.00</td>\n",
       "      <td>2.392781</td>\n",
       "      <td>True</td>\n",
       "      <td>0.082840</td>\n",
       "    </tr>\n",
       "    <tr>\n",
       "      <th>1</th>\n",
       "      <td>14-15</td>\n",
       "      <td>Atlanta Hawks</td>\n",
       "      <td>True</td>\n",
       "      <td>347745</td>\n",
       "      <td>5689</td>\n",
       "      <td>52112642.0</td>\n",
       "      <td>0.168001</td>\n",
       "      <td>2.95</td>\n",
       "      <td>2.315523</td>\n",
       "      <td>True</td>\n",
       "      <td>0.079763</td>\n",
       "    </tr>\n",
       "    <tr>\n",
       "      <th>2</th>\n",
       "      <td>15-16</td>\n",
       "      <td>Atlanta Hawks</td>\n",
       "      <td>True</td>\n",
       "      <td>369996</td>\n",
       "      <td>5792</td>\n",
       "      <td>68126061.0</td>\n",
       "      <td>0.172936</td>\n",
       "      <td>3.25</td>\n",
       "      <td>1.464703</td>\n",
       "      <td>True</td>\n",
       "      <td>0.034536</td>\n",
       "    </tr>\n",
       "    <tr>\n",
       "      <th>3</th>\n",
       "      <td>16-17</td>\n",
       "      <td>Atlanta Hawks</td>\n",
       "      <td>True</td>\n",
       "      <td>389472</td>\n",
       "      <td>5877</td>\n",
       "      <td>88612062.0</td>\n",
       "      <td>0.167276</td>\n",
       "      <td>2.35</td>\n",
       "      <td>1.654266</td>\n",
       "      <td>True</td>\n",
       "      <td>0.332694</td>\n",
       "    </tr>\n",
       "    <tr>\n",
       "      <th>4</th>\n",
       "      <td>17-18</td>\n",
       "      <td>Atlanta Hawks</td>\n",
       "      <td>True</td>\n",
       "      <td>411660</td>\n",
       "      <td>5951</td>\n",
       "      <td>69224606.0</td>\n",
       "      <td>0.176806</td>\n",
       "      <td>3.05</td>\n",
       "      <td>1.473953</td>\n",
       "      <td>False</td>\n",
       "      <td>0.040398</td>\n",
       "    </tr>\n",
       "    <tr>\n",
       "      <th>...</th>\n",
       "      <td>...</td>\n",
       "      <td>...</td>\n",
       "      <td>...</td>\n",
       "      <td>...</td>\n",
       "      <td>...</td>\n",
       "      <td>...</td>\n",
       "      <td>...</td>\n",
       "      <td>...</td>\n",
       "      <td>...</td>\n",
       "      <td>...</td>\n",
       "      <td>...</td>\n",
       "    </tr>\n",
       "    <tr>\n",
       "      <th>234</th>\n",
       "      <td>16-17</td>\n",
       "      <td>Washington Wizards</td>\n",
       "      <td>False</td>\n",
       "      <td>525176</td>\n",
       "      <td>6218</td>\n",
       "      <td>97430036.0</td>\n",
       "      <td>0.153843</td>\n",
       "      <td>1.75</td>\n",
       "      <td>2.322184</td>\n",
       "      <td>True</td>\n",
       "      <td>0.476841</td>\n",
       "    </tr>\n",
       "    <tr>\n",
       "      <th>235</th>\n",
       "      <td>17-18</td>\n",
       "      <td>Washington Wizards</td>\n",
       "      <td>True</td>\n",
       "      <td>547123</td>\n",
       "      <td>6256</td>\n",
       "      <td>123055869.0</td>\n",
       "      <td>0.161488</td>\n",
       "      <td>3.05</td>\n",
       "      <td>2.265754</td>\n",
       "      <td>True</td>\n",
       "      <td>0.959734</td>\n",
       "    </tr>\n",
       "    <tr>\n",
       "      <th>236</th>\n",
       "      <td>18-19</td>\n",
       "      <td>Washington Wizards</td>\n",
       "      <td>True</td>\n",
       "      <td>566892</td>\n",
       "      <td>6297</td>\n",
       "      <td>115658099.0</td>\n",
       "      <td>0.150464</td>\n",
       "      <td>3.05</td>\n",
       "      <td>1.791375</td>\n",
       "      <td>False</td>\n",
       "      <td>0.909670</td>\n",
       "    </tr>\n",
       "    <tr>\n",
       "      <th>237</th>\n",
       "      <td>19-20</td>\n",
       "      <td>Washington Wizards</td>\n",
       "      <td>False</td>\n",
       "      <td>561028</td>\n",
       "      <td>6386</td>\n",
       "      <td>85196283.0</td>\n",
       "      <td>0.159513</td>\n",
       "      <td>3.35</td>\n",
       "      <td>2.169196</td>\n",
       "      <td>False</td>\n",
       "      <td>0.087789</td>\n",
       "    </tr>\n",
       "    <tr>\n",
       "      <th>238</th>\n",
       "      <td>20-21</td>\n",
       "      <td>Washington Wizards</td>\n",
       "      <td>False</td>\n",
       "      <td>593007</td>\n",
       "      <td>6356</td>\n",
       "      <td>122086882.0</td>\n",
       "      <td>0.127403</td>\n",
       "      <td>1.90</td>\n",
       "      <td>2.192251</td>\n",
       "      <td>True</td>\n",
       "      <td>0.935544</td>\n",
       "    </tr>\n",
       "  </tbody>\n",
       "</table>\n",
       "<p>239 rows × 11 columns</p>\n",
       "</div>"
      ],
      "text/plain": [
       "      year                TEAM  lasy_year_playoff     GDP   pop       SALARY  \\\n",
       "0    13-14       Atlanta Hawks               True  325003  5595   52150108.0   \n",
       "1    14-15       Atlanta Hawks               True  347745  5689   52112642.0   \n",
       "2    15-16       Atlanta Hawks               True  369996  5792   68126061.0   \n",
       "3    16-17       Atlanta Hawks               True  389472  5877   88612062.0   \n",
       "4    17-18       Atlanta Hawks               True  411660  5951   69224606.0   \n",
       "..     ...                 ...                ...     ...   ...          ...   \n",
       "234  16-17  Washington Wizards              False  525176  6218   97430036.0   \n",
       "235  17-18  Washington Wizards               True  547123  6256  123055869.0   \n",
       "236  18-19  Washington Wizards               True  566892  6297  115658099.0   \n",
       "237  19-20  Washington Wizards              False  561028  6386   85196283.0   \n",
       "238  20-21  Washington Wizards              False  593007  6356  122086882.0   \n",
       "\n",
       "     turnover_metrics  median_ast  offensive_index  playoff  prediction  \n",
       "0            0.168249        3.00         2.392781     True    0.082840  \n",
       "1            0.168001        2.95         2.315523     True    0.079763  \n",
       "2            0.172936        3.25         1.464703     True    0.034536  \n",
       "3            0.167276        2.35         1.654266     True    0.332694  \n",
       "4            0.176806        3.05         1.473953    False    0.040398  \n",
       "..                ...         ...              ...      ...         ...  \n",
       "234          0.153843        1.75         2.322184     True    0.476841  \n",
       "235          0.161488        3.05         2.265754     True    0.959734  \n",
       "236          0.150464        3.05         1.791375    False    0.909670  \n",
       "237          0.159513        3.35         2.169196    False    0.087789  \n",
       "238          0.127403        1.90         2.192251     True    0.935544  \n",
       "\n",
       "[239 rows x 11 columns]"
      ]
     },
     "execution_count": 411,
     "metadata": {},
     "output_type": "execute_result"
    }
   ],
   "source": [
    "final_results = log_reg.predict(final_df[['lasy_year_playoff', 'GDP', 'pop', 'SALARY',\n",
    "       'turnover_metrics', 'median_ast', 'offensive_index']].astype(float))\n",
    "\n",
    "final_results_df = final_df[['year','TEAM','lasy_year_playoff', 'GDP', 'pop', 'SALARY',\n",
    "       'turnover_metrics', 'median_ast', 'offensive_index','playoff']]\\\n",
    ".join(pd.DataFrame({'prediction':final_results}))\n",
    "final_results_df"
   ]
  }
 ],
 "metadata": {
  "kernelspec": {
   "display_name": "Python 3 (ipykernel)",
   "language": "python",
   "name": "python3"
  },
  "language_info": {
   "codemirror_mode": {
    "name": "ipython",
    "version": 3
   },
   "file_extension": ".py",
   "mimetype": "text/x-python",
   "name": "python",
   "nbconvert_exporter": "python",
   "pygments_lexer": "ipython3",
   "version": "3.7.5"
  }
 },
 "nbformat": 4,
 "nbformat_minor": 5
}
